{
 "metadata": {
  "language_info": {
   "codemirror_mode": {
    "name": "ipython",
    "version": 3
   },
   "file_extension": ".py",
   "mimetype": "text/x-python",
   "name": "python",
   "nbconvert_exporter": "python",
   "pygments_lexer": "ipython3",
   "version": "3.6.9-final"
  },
  "orig_nbformat": 2,
  "kernelspec": {
   "name": "python36964bit245cb7f61d214e8abfc41db77e8e7e51",
   "display_name": "Python 3.6.9 64-bit",
   "language": "python"
  }
 },
 "nbformat": 4,
 "nbformat_minor": 2,
 "cells": [
  {
   "cell_type": "code",
   "execution_count": 1,
   "metadata": {},
   "outputs": [
    {
     "output_type": "execute_result",
     "data": {
      "text/plain": [
       "                  authors                                              title  \\\n",
       "0                      []  'More vital now:' Gay-straight alliances go vi...   \n",
       "1                      []  Scientists aim to 'see' invisible transmission...   \n",
       "2  ['The Canadian Press']  Coronavirus: What's happening in Canada and ar...   \n",
       "3                      []  B.C. announces 26 new coronavirus cases, new c...   \n",
       "4                      []  B.C. announces 26 new coronavirus cases, new c...   \n",
       "\n",
       "       publish_date                                        description  \\\n",
       "0   2020-05-03 1:30  Lily Overacker and Laurell Pallot start each g...   \n",
       "1   2020-05-02 8:00  Some researchers aim to learn more about how t...   \n",
       "2  2020-05-02 11:28  Canada's chief public health officer struck an...   \n",
       "3  2020-05-02 18:45  B.C. provincial health officer Dr. Bonnie Henr...   \n",
       "4  2020-05-02 18:45  B.C. provincial health officer Dr. Bonnie Henr...   \n",
       "\n",
       "                                                text  \\\n",
       "0  Lily Overacker and Laurell Pallot start each g...   \n",
       "1  This is an excerpt from Second Opinion, a week...   \n",
       "2  The latest:  The lives behind the numbers: Wha...   \n",
       "3  B.C. provincial health officer Dr. Bonnie Henr...   \n",
       "4  B.C. provincial health officer Dr. Bonnie Henr...   \n",
       "\n",
       "                                                 url  \n",
       "0  https://www.cbc.ca/news/canada/calgary/gay-str...  \n",
       "1  https://www.cbc.ca/news/technology/droplet-tra...  \n",
       "2  https://www.cbc.ca/news/canada/coronavirus-cov...  \n",
       "3  https://www.cbc.ca/news/canada/british-columbi...  \n",
       "4  https://www.cbc.ca/news/canada/british-columbi...  "
      ],
      "text/html": "<div>\n<style scoped>\n    .dataframe tbody tr th:only-of-type {\n        vertical-align: middle;\n    }\n\n    .dataframe tbody tr th {\n        vertical-align: top;\n    }\n\n    .dataframe thead th {\n        text-align: right;\n    }\n</style>\n<table border=\"1\" class=\"dataframe\">\n  <thead>\n    <tr style=\"text-align: right;\">\n      <th></th>\n      <th>authors</th>\n      <th>title</th>\n      <th>publish_date</th>\n      <th>description</th>\n      <th>text</th>\n      <th>url</th>\n    </tr>\n  </thead>\n  <tbody>\n    <tr>\n      <th>0</th>\n      <td>[]</td>\n      <td>'More vital now:' Gay-straight alliances go vi...</td>\n      <td>2020-05-03 1:30</td>\n      <td>Lily Overacker and Laurell Pallot start each g...</td>\n      <td>Lily Overacker and Laurell Pallot start each g...</td>\n      <td>https://www.cbc.ca/news/canada/calgary/gay-str...</td>\n    </tr>\n    <tr>\n      <th>1</th>\n      <td>[]</td>\n      <td>Scientists aim to 'see' invisible transmission...</td>\n      <td>2020-05-02 8:00</td>\n      <td>Some researchers aim to learn more about how t...</td>\n      <td>This is an excerpt from Second Opinion, a week...</td>\n      <td>https://www.cbc.ca/news/technology/droplet-tra...</td>\n    </tr>\n    <tr>\n      <th>2</th>\n      <td>['The Canadian Press']</td>\n      <td>Coronavirus: What's happening in Canada and ar...</td>\n      <td>2020-05-02 11:28</td>\n      <td>Canada's chief public health officer struck an...</td>\n      <td>The latest:  The lives behind the numbers: Wha...</td>\n      <td>https://www.cbc.ca/news/canada/coronavirus-cov...</td>\n    </tr>\n    <tr>\n      <th>3</th>\n      <td>[]</td>\n      <td>B.C. announces 26 new coronavirus cases, new c...</td>\n      <td>2020-05-02 18:45</td>\n      <td>B.C. provincial health officer Dr. Bonnie Henr...</td>\n      <td>B.C. provincial health officer Dr. Bonnie Henr...</td>\n      <td>https://www.cbc.ca/news/canada/british-columbi...</td>\n    </tr>\n    <tr>\n      <th>4</th>\n      <td>[]</td>\n      <td>B.C. announces 26 new coronavirus cases, new c...</td>\n      <td>2020-05-02 18:45</td>\n      <td>B.C. provincial health officer Dr. Bonnie Henr...</td>\n      <td>B.C. provincial health officer Dr. Bonnie Henr...</td>\n      <td>https://www.cbc.ca/news/canada/british-columbi...</td>\n    </tr>\n  </tbody>\n</table>\n</div>"
     },
     "metadata": {},
     "execution_count": 1
    }
   ],
   "source": [
    "import pandas as pd\n",
    "\n",
    "news_original = pd.read_csv('./news.csv', index_col=0)\n",
    "news_original.head()"
   ]
  },
  {
   "cell_type": "code",
   "execution_count": 2,
   "metadata": {},
   "outputs": [
    {
     "output_type": "execute_result",
     "data": {
      "text/plain": [
       "                  authors      publish_date  \\\n",
       "0                      []   2020-05-03 1:30   \n",
       "1                      []   2020-05-02 8:00   \n",
       "2  ['The Canadian Press']  2020-05-02 11:28   \n",
       "3                      []  2020-05-02 18:45   \n",
       "4                      []  2020-05-02 18:45   \n",
       "\n",
       "                                                 url  \\\n",
       "0  https://www.cbc.ca/news/canada/calgary/gay-str...   \n",
       "1  https://www.cbc.ca/news/technology/droplet-tra...   \n",
       "2  https://www.cbc.ca/news/canada/coronavirus-cov...   \n",
       "3  https://www.cbc.ca/news/canada/british-columbi...   \n",
       "4  https://www.cbc.ca/news/canada/british-columbi...   \n",
       "\n",
       "                                             content  \n",
       "0  'More vital now:' Gay-straight alliances go vi...  \n",
       "1  Scientists aim to 'see' invisible transmission...  \n",
       "2  Coronavirus: What's happening in Canada and ar...  \n",
       "3  B.C. announces 26 new coronavirus cases, new c...  \n",
       "4  B.C. announces 26 new coronavirus cases, new c...  "
      ],
      "text/html": "<div>\n<style scoped>\n    .dataframe tbody tr th:only-of-type {\n        vertical-align: middle;\n    }\n\n    .dataframe tbody tr th {\n        vertical-align: top;\n    }\n\n    .dataframe thead th {\n        text-align: right;\n    }\n</style>\n<table border=\"1\" class=\"dataframe\">\n  <thead>\n    <tr style=\"text-align: right;\">\n      <th></th>\n      <th>authors</th>\n      <th>publish_date</th>\n      <th>url</th>\n      <th>content</th>\n    </tr>\n  </thead>\n  <tbody>\n    <tr>\n      <th>0</th>\n      <td>[]</td>\n      <td>2020-05-03 1:30</td>\n      <td>https://www.cbc.ca/news/canada/calgary/gay-str...</td>\n      <td>'More vital now:' Gay-straight alliances go vi...</td>\n    </tr>\n    <tr>\n      <th>1</th>\n      <td>[]</td>\n      <td>2020-05-02 8:00</td>\n      <td>https://www.cbc.ca/news/technology/droplet-tra...</td>\n      <td>Scientists aim to 'see' invisible transmission...</td>\n    </tr>\n    <tr>\n      <th>2</th>\n      <td>['The Canadian Press']</td>\n      <td>2020-05-02 11:28</td>\n      <td>https://www.cbc.ca/news/canada/coronavirus-cov...</td>\n      <td>Coronavirus: What's happening in Canada and ar...</td>\n    </tr>\n    <tr>\n      <th>3</th>\n      <td>[]</td>\n      <td>2020-05-02 18:45</td>\n      <td>https://www.cbc.ca/news/canada/british-columbi...</td>\n      <td>B.C. announces 26 new coronavirus cases, new c...</td>\n    </tr>\n    <tr>\n      <th>4</th>\n      <td>[]</td>\n      <td>2020-05-02 18:45</td>\n      <td>https://www.cbc.ca/news/canada/british-columbi...</td>\n      <td>B.C. announces 26 new coronavirus cases, new c...</td>\n    </tr>\n  </tbody>\n</table>\n</div>"
     },
     "metadata": {},
     "execution_count": 2
    }
   ],
   "source": [
    "news = news_original.copy()\n",
    "\n",
    "contents = []\n",
    "for index, row in news.iterrows():\n",
    "  content = ''\n",
    "  if isinstance(row['title'], str):\n",
    "    content += row['title']\n",
    "  if isinstance(row['description'], str):\n",
    "    content += row['description']\n",
    "  if isinstance(row['text'], str):\n",
    "    content += row['text']\n",
    "  contents.append(content)\n",
    "\n",
    "news['content'] = contents[:]\n",
    "\n",
    "del news['title'], news['description'], news['text']\n",
    "news.head()"
   ]
  },
  {
   "cell_type": "code",
   "execution_count": 3,
   "metadata": {},
   "outputs": [
    {
     "output_type": "stream",
     "name": "stderr",
     "text": [
      "[nltk_data] Downloading package wordnet to /home/andrew/nltk_data...\n[nltk_data]   Package wordnet is already up-to-date!\n[nltk_data] Downloading package averaged_perceptron_tagger to\n[nltk_data]     /home/andrew/nltk_data...\n[nltk_data]   Package averaged_perceptron_tagger is already up-to-\n[nltk_data]       date!\n"
     ]
    }
   ],
   "source": [
    "from gensim.utils import simple_preprocess\n",
    "from gensim.parsing.preprocessing import STOPWORDS\n",
    "\n",
    "from nltk import download\n",
    "download('wordnet')\n",
    "download('averaged_perceptron_tagger')\n",
    "\n",
    "from nltk import WordNetLemmatizer, pos_tag\n",
    "from nltk.corpus import wordnet\n",
    "\n",
    "def get_pos(token):  # get part of speech\n",
    "  tag = pos_tag([token])[0][1][0].upper()\n",
    "  tag_dict = {\n",
    "    \"J\": wordnet.ADJ,\n",
    "    \"N\": wordnet.NOUN,\n",
    "    \"V\": wordnet.VERB,\n",
    "    \"R\": wordnet.ADV\n",
    "  }\n",
    "  return tag_dict.get(tag, wordnet.NOUN)"
   ]
  },
  {
   "cell_type": "code",
   "execution_count": 4,
   "metadata": {},
   "outputs": [
    {
     "output_type": "execute_result",
     "data": {
      "text/plain": [
       "                     authors      publish_date  \\\n",
       "0                         []   2020-05-03 1:30   \n",
       "1                         []   2020-05-02 8:00   \n",
       "2     ['The Canadian Press']  2020-05-02 11:28   \n",
       "3                         []  2020-05-02 18:45   \n",
       "4                         []  2020-05-02 18:45   \n",
       "...                      ...               ...   \n",
       "6782            ['Cbc News']  2020-04-06 10:49   \n",
       "6783            ['Cbc News']  2020-03-18 17:08   \n",
       "6784            ['Cbc News']  2020-04-19 11:30   \n",
       "6785                      []  2020-03-31 12:55   \n",
       "6786                      []   2020-04-06 9:00   \n",
       "\n",
       "                                                    url  \\\n",
       "0     https://www.cbc.ca/news/canada/calgary/gay-str...   \n",
       "1     https://www.cbc.ca/news/technology/droplet-tra...   \n",
       "2     https://www.cbc.ca/news/canada/coronavirus-cov...   \n",
       "3     https://www.cbc.ca/news/canada/british-columbi...   \n",
       "4     https://www.cbc.ca/news/canada/british-columbi...   \n",
       "...                                                 ...   \n",
       "6782  https://www.cbc.ca/news/canada/windsor/fishing...   \n",
       "6783  https://www.cbc.ca/news/canada/ottawa/tunneys-...   \n",
       "6784  https://www.cbc.ca/news/canada/newfoundland-la...   \n",
       "6785  https://www.cbc.ca/news/canada/edmonton/shawn-...   \n",
       "6786  https://www.cbc.ca/news/canada/nova-scotia/cla...   \n",
       "\n",
       "                                                content  \\\n",
       "0     'More vital now:' Gay-straight alliances go vi...   \n",
       "1     Scientists aim to 'see' invisible transmission...   \n",
       "2     Coronavirus: What's happening in Canada and ar...   \n",
       "3     B.C. announces 26 new coronavirus cases, new c...   \n",
       "4     B.C. announces 26 new coronavirus cases, new c...   \n",
       "...                                                 ...   \n",
       "6782  Fishing industry in Windsor-Essex shut down du...   \n",
       "6783  Health Canada worker tests positive for COVID-...   \n",
       "6784  Taxis adapting to COVID-19 with plastic shield...   \n",
       "6785  'An amazing man': Young father identified as n...   \n",
       "6786  N.S. municipality warns against annual Easter ...   \n",
       "\n",
       "                                   preprocessed_content  \n",
       "0     vital gay straight alliance virtual coronaviru...  \n",
       "1     scientist aim invisible transmission coronavir...  \n",
       "2     coronavirus happen canada world canada chief p...  \n",
       "3     announces new coronavirus case new community o...  \n",
       "4     announces new coronavirus case new community o...  \n",
       "...                                                 ...  \n",
       "6782  fishing industry windsor essex shut peak seaso...  \n",
       "6783  health canada worker test positive covid healt...  \n",
       "6784  taxi adapt covid plastic shield passenger limi...  \n",
       "6785  amaze man young father identify northern alber...  \n",
       "6786  municipality warns annual easter weekend canoe...  \n",
       "\n",
       "[6788 rows x 5 columns]"
      ],
      "text/html": "<div>\n<style scoped>\n    .dataframe tbody tr th:only-of-type {\n        vertical-align: middle;\n    }\n\n    .dataframe tbody tr th {\n        vertical-align: top;\n    }\n\n    .dataframe thead th {\n        text-align: right;\n    }\n</style>\n<table border=\"1\" class=\"dataframe\">\n  <thead>\n    <tr style=\"text-align: right;\">\n      <th></th>\n      <th>authors</th>\n      <th>publish_date</th>\n      <th>url</th>\n      <th>content</th>\n      <th>preprocessed_content</th>\n    </tr>\n  </thead>\n  <tbody>\n    <tr>\n      <th>0</th>\n      <td>[]</td>\n      <td>2020-05-03 1:30</td>\n      <td>https://www.cbc.ca/news/canada/calgary/gay-str...</td>\n      <td>'More vital now:' Gay-straight alliances go vi...</td>\n      <td>vital gay straight alliance virtual coronaviru...</td>\n    </tr>\n    <tr>\n      <th>1</th>\n      <td>[]</td>\n      <td>2020-05-02 8:00</td>\n      <td>https://www.cbc.ca/news/technology/droplet-tra...</td>\n      <td>Scientists aim to 'see' invisible transmission...</td>\n      <td>scientist aim invisible transmission coronavir...</td>\n    </tr>\n    <tr>\n      <th>2</th>\n      <td>['The Canadian Press']</td>\n      <td>2020-05-02 11:28</td>\n      <td>https://www.cbc.ca/news/canada/coronavirus-cov...</td>\n      <td>Coronavirus: What's happening in Canada and ar...</td>\n      <td>coronavirus happen canada world canada chief p...</td>\n    </tr>\n    <tr>\n      <th>3</th>\n      <td>[]</td>\n      <td>2020-05-02 18:45</td>\n      <td>https://www.cbc.ca/news/canada/british-columbi...</td>\n      <td>B.C. announces 26 new coronavirus cases, new c...</td>\n      <td>announces new coronavirus case new community o...</td>\n    </tr>\n    <tr>\n      <th>4</th>\n      <td>[]</td>\n      <td>2020-05-02 18:45</td>\n      <td>https://www.cbc.ca/news/canada/british-columbi...</td>\n      <td>B.C. announces 26 new coronavirus cases, new c...</td>\n      <td>announces new coronavirus case new community o...</td>\n    </tr>\n    <tr>\n      <th>...</th>\n      <td>...</td>\n      <td>...</td>\n      <td>...</td>\n      <td>...</td>\n      <td>...</td>\n    </tr>\n    <tr>\n      <th>6782</th>\n      <td>['Cbc News']</td>\n      <td>2020-04-06 10:49</td>\n      <td>https://www.cbc.ca/news/canada/windsor/fishing...</td>\n      <td>Fishing industry in Windsor-Essex shut down du...</td>\n      <td>fishing industry windsor essex shut peak seaso...</td>\n    </tr>\n    <tr>\n      <th>6783</th>\n      <td>['Cbc News']</td>\n      <td>2020-03-18 17:08</td>\n      <td>https://www.cbc.ca/news/canada/ottawa/tunneys-...</td>\n      <td>Health Canada worker tests positive for COVID-...</td>\n      <td>health canada worker test positive covid healt...</td>\n    </tr>\n    <tr>\n      <th>6784</th>\n      <td>['Cbc News']</td>\n      <td>2020-04-19 11:30</td>\n      <td>https://www.cbc.ca/news/canada/newfoundland-la...</td>\n      <td>Taxis adapting to COVID-19 with plastic shield...</td>\n      <td>taxi adapt covid plastic shield passenger limi...</td>\n    </tr>\n    <tr>\n      <th>6785</th>\n      <td>[]</td>\n      <td>2020-03-31 12:55</td>\n      <td>https://www.cbc.ca/news/canada/edmonton/shawn-...</td>\n      <td>'An amazing man': Young father identified as n...</td>\n      <td>amaze man young father identify northern alber...</td>\n    </tr>\n    <tr>\n      <th>6786</th>\n      <td>[]</td>\n      <td>2020-04-06 9:00</td>\n      <td>https://www.cbc.ca/news/canada/nova-scotia/cla...</td>\n      <td>N.S. municipality warns against annual Easter ...</td>\n      <td>municipality warns annual easter weekend canoe...</td>\n    </tr>\n  </tbody>\n</table>\n<p>6788 rows × 5 columns</p>\n</div>"
     },
     "metadata": {},
     "execution_count": 4
    }
   ],
   "source": [
    "wnl = WordNetLemmatizer()\n",
    "\n",
    "preprocessed_content = []\n",
    "\n",
    "for index, row in news.iterrows():\n",
    "  content = []\n",
    "  for token in simple_preprocess(row['content']):\n",
    "    if not (token in STOPWORDS):\n",
    "      content.append(wnl.lemmatize(token, pos=get_pos(token)))\n",
    "  preprocessed_content.append(' '.join(content))\n",
    "\n",
    "news['preprocessed_content'] = preprocessed_content[:]\n",
    "news"
   ]
  },
  {
   "cell_type": "code",
   "execution_count": 5,
   "metadata": {},
   "outputs": [],
   "source": [
    "from gensim.models import Phrases\n",
    "from gensim.models.phrases import Phraser\n",
    "\n",
    "bigram_model = Phrases([ content.split() for content in preprocessed_content ])"
   ]
  },
  {
   "cell_type": "code",
   "execution_count": 6,
   "metadata": {},
   "outputs": [
    {
     "output_type": "execute_result",
     "data": {
      "text/plain": [
       "                  authors      publish_date  \\\n",
       "0                      []   2020-05-03 1:30   \n",
       "1                      []   2020-05-02 8:00   \n",
       "2  ['The Canadian Press']  2020-05-02 11:28   \n",
       "3                      []  2020-05-02 18:45   \n",
       "4                      []  2020-05-02 18:45   \n",
       "\n",
       "                                                 url  \\\n",
       "0  https://www.cbc.ca/news/canada/calgary/gay-str...   \n",
       "1  https://www.cbc.ca/news/technology/droplet-tra...   \n",
       "2  https://www.cbc.ca/news/canada/coronavirus-cov...   \n",
       "3  https://www.cbc.ca/news/canada/british-columbi...   \n",
       "4  https://www.cbc.ca/news/canada/british-columbi...   \n",
       "\n",
       "                                             content  \\\n",
       "0  'More vital now:' Gay-straight alliances go vi...   \n",
       "1  Scientists aim to 'see' invisible transmission...   \n",
       "2  Coronavirus: What's happening in Canada and ar...   \n",
       "3  B.C. announces 26 new coronavirus cases, new c...   \n",
       "4  B.C. announces 26 new coronavirus cases, new c...   \n",
       "\n",
       "                                preprocessed_content  \n",
       "0  vital gay_straight alliance virtual coronaviru...  \n",
       "1  scientist aim invisible transmission coronavir...  \n",
       "2  coronavirus happen canada world canada chief_p...  \n",
       "3  announces_new coronavirus case new community o...  \n",
       "4  announces_new coronavirus case new community o...  "
      ],
      "text/html": "<div>\n<style scoped>\n    .dataframe tbody tr th:only-of-type {\n        vertical-align: middle;\n    }\n\n    .dataframe tbody tr th {\n        vertical-align: top;\n    }\n\n    .dataframe thead th {\n        text-align: right;\n    }\n</style>\n<table border=\"1\" class=\"dataframe\">\n  <thead>\n    <tr style=\"text-align: right;\">\n      <th></th>\n      <th>authors</th>\n      <th>publish_date</th>\n      <th>url</th>\n      <th>content</th>\n      <th>preprocessed_content</th>\n    </tr>\n  </thead>\n  <tbody>\n    <tr>\n      <th>0</th>\n      <td>[]</td>\n      <td>2020-05-03 1:30</td>\n      <td>https://www.cbc.ca/news/canada/calgary/gay-str...</td>\n      <td>'More vital now:' Gay-straight alliances go vi...</td>\n      <td>vital gay_straight alliance virtual coronaviru...</td>\n    </tr>\n    <tr>\n      <th>1</th>\n      <td>[]</td>\n      <td>2020-05-02 8:00</td>\n      <td>https://www.cbc.ca/news/technology/droplet-tra...</td>\n      <td>Scientists aim to 'see' invisible transmission...</td>\n      <td>scientist aim invisible transmission coronavir...</td>\n    </tr>\n    <tr>\n      <th>2</th>\n      <td>['The Canadian Press']</td>\n      <td>2020-05-02 11:28</td>\n      <td>https://www.cbc.ca/news/canada/coronavirus-cov...</td>\n      <td>Coronavirus: What's happening in Canada and ar...</td>\n      <td>coronavirus happen canada world canada chief_p...</td>\n    </tr>\n    <tr>\n      <th>3</th>\n      <td>[]</td>\n      <td>2020-05-02 18:45</td>\n      <td>https://www.cbc.ca/news/canada/british-columbi...</td>\n      <td>B.C. announces 26 new coronavirus cases, new c...</td>\n      <td>announces_new coronavirus case new community o...</td>\n    </tr>\n    <tr>\n      <th>4</th>\n      <td>[]</td>\n      <td>2020-05-02 18:45</td>\n      <td>https://www.cbc.ca/news/canada/british-columbi...</td>\n      <td>B.C. announces 26 new coronavirus cases, new c...</td>\n      <td>announces_new coronavirus case new community o...</td>\n    </tr>\n  </tbody>\n</table>\n</div>"
     },
     "metadata": {},
     "execution_count": 6
    }
   ],
   "source": [
    "enriched_content = []\n",
    "\n",
    "for index, row in news.iterrows():\n",
    "  enriched_content.append(bigram_model[row['preprocessed_content'].split()])\n",
    "\n",
    "news['preprocessed_content'] = [ ' '.join(content) for content in enriched_content ]\n",
    "news.head()"
   ]
  },
  {
   "cell_type": "code",
   "execution_count": 39,
   "metadata": {},
   "outputs": [],
   "source": [
    "from gensim.corpora import Dictionary\n",
    "\n",
    "dictionary = Dictionary(enriched_content)\n",
    "dictionary.filter_extremes(no_below=20, no_above=0.4, keep_n=10000)\n",
    "#bag of words\n",
    "bow = [ dictionary.doc2bow(content) for content in enriched_content ]"
   ]
  },
  {
   "cell_type": "code",
   "execution_count": 40,
   "metadata": {},
   "outputs": [],
   "source": [
    "from gensim.models  import LdaMulticore\n",
    "\n",
    "model = LdaMulticore(\n",
    "    bow,\n",
    "    id2word = dictionary,\n",
    "    num_topics = 25,\n",
    "    chunksize = 1000,\n",
    "    passes = 200,\n",
    "    alpha=50/25,\n",
    "    workers = 6,\n",
    "    random_state = 10\n",
    ")"
   ]
  }
 ]
}