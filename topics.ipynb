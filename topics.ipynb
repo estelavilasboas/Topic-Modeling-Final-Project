{
 "metadata": {
  "language_info": {
   "codemirror_mode": {
    "name": "ipython",
    "version": 3
   },
   "file_extension": ".py",
   "mimetype": "text/x-python",
   "name": "python",
   "nbconvert_exporter": "python",
   "pygments_lexer": "ipython3",
   "version": "3.6.9-final"
  },
  "orig_nbformat": 2,
  "kernelspec": {
   "name": "python36964bit245cb7f61d214e8abfc41db77e8e7e51",
   "display_name": "Python 3.6.9 64-bit",
   "language": "python"
  }
 },
 "nbformat": 4,
 "nbformat_minor": 2,
 "cells": [
  {
   "cell_type": "code",
   "execution_count": 1,
   "metadata": {},
   "outputs": [
    {
     "output_type": "execute_result",
     "data": {
      "text/plain": [
       "                  authors                                              title  \\\n",
       "0                      []  'More vital now:' Gay-straight alliances go vi...   \n",
       "1                      []  Scientists aim to 'see' invisible transmission...   \n",
       "2  ['The Canadian Press']  Coronavirus: What's happening in Canada and ar...   \n",
       "3                      []  B.C. announces 26 new coronavirus cases, new c...   \n",
       "4                      []  B.C. announces 26 new coronavirus cases, new c...   \n",
       "\n",
       "       publish_date                                        description  \\\n",
       "0   2020-05-03 1:30  Lily Overacker and Laurell Pallot start each g...   \n",
       "1   2020-05-02 8:00  Some researchers aim to learn more about how t...   \n",
       "2  2020-05-02 11:28  Canada's chief public health officer struck an...   \n",
       "3  2020-05-02 18:45  B.C. provincial health officer Dr. Bonnie Henr...   \n",
       "4  2020-05-02 18:45  B.C. provincial health officer Dr. Bonnie Henr...   \n",
       "\n",
       "                                                text  \\\n",
       "0  Lily Overacker and Laurell Pallot start each g...   \n",
       "1  This is an excerpt from Second Opinion, a week...   \n",
       "2  The latest:  The lives behind the numbers: Wha...   \n",
       "3  B.C. provincial health officer Dr. Bonnie Henr...   \n",
       "4  B.C. provincial health officer Dr. Bonnie Henr...   \n",
       "\n",
       "                                                 url  \n",
       "0  https://www.cbc.ca/news/canada/calgary/gay-str...  \n",
       "1  https://www.cbc.ca/news/technology/droplet-tra...  \n",
       "2  https://www.cbc.ca/news/canada/coronavirus-cov...  \n",
       "3  https://www.cbc.ca/news/canada/british-columbi...  \n",
       "4  https://www.cbc.ca/news/canada/british-columbi...  "
      ],
      "text/html": "<div>\n<style scoped>\n    .dataframe tbody tr th:only-of-type {\n        vertical-align: middle;\n    }\n\n    .dataframe tbody tr th {\n        vertical-align: top;\n    }\n\n    .dataframe thead th {\n        text-align: right;\n    }\n</style>\n<table border=\"1\" class=\"dataframe\">\n  <thead>\n    <tr style=\"text-align: right;\">\n      <th></th>\n      <th>authors</th>\n      <th>title</th>\n      <th>publish_date</th>\n      <th>description</th>\n      <th>text</th>\n      <th>url</th>\n    </tr>\n  </thead>\n  <tbody>\n    <tr>\n      <th>0</th>\n      <td>[]</td>\n      <td>'More vital now:' Gay-straight alliances go vi...</td>\n      <td>2020-05-03 1:30</td>\n      <td>Lily Overacker and Laurell Pallot start each g...</td>\n      <td>Lily Overacker and Laurell Pallot start each g...</td>\n      <td>https://www.cbc.ca/news/canada/calgary/gay-str...</td>\n    </tr>\n    <tr>\n      <th>1</th>\n      <td>[]</td>\n      <td>Scientists aim to 'see' invisible transmission...</td>\n      <td>2020-05-02 8:00</td>\n      <td>Some researchers aim to learn more about how t...</td>\n      <td>This is an excerpt from Second Opinion, a week...</td>\n      <td>https://www.cbc.ca/news/technology/droplet-tra...</td>\n    </tr>\n    <tr>\n      <th>2</th>\n      <td>['The Canadian Press']</td>\n      <td>Coronavirus: What's happening in Canada and ar...</td>\n      <td>2020-05-02 11:28</td>\n      <td>Canada's chief public health officer struck an...</td>\n      <td>The latest:  The lives behind the numbers: Wha...</td>\n      <td>https://www.cbc.ca/news/canada/coronavirus-cov...</td>\n    </tr>\n    <tr>\n      <th>3</th>\n      <td>[]</td>\n      <td>B.C. announces 26 new coronavirus cases, new c...</td>\n      <td>2020-05-02 18:45</td>\n      <td>B.C. provincial health officer Dr. Bonnie Henr...</td>\n      <td>B.C. provincial health officer Dr. Bonnie Henr...</td>\n      <td>https://www.cbc.ca/news/canada/british-columbi...</td>\n    </tr>\n    <tr>\n      <th>4</th>\n      <td>[]</td>\n      <td>B.C. announces 26 new coronavirus cases, new c...</td>\n      <td>2020-05-02 18:45</td>\n      <td>B.C. provincial health officer Dr. Bonnie Henr...</td>\n      <td>B.C. provincial health officer Dr. Bonnie Henr...</td>\n      <td>https://www.cbc.ca/news/canada/british-columbi...</td>\n    </tr>\n  </tbody>\n</table>\n</div>"
     },
     "metadata": {},
     "execution_count": 1
    }
   ],
   "source": [
    "import pandas as pd\n",
    "\n",
    "news_original = pd.read_csv('./news.csv', index_col=0)\n",
    "news_original.head()"
   ]
  },
  {
   "cell_type": "code",
   "execution_count": 2,
   "metadata": {},
   "outputs": [
    {
     "output_type": "execute_result",
     "data": {
      "text/plain": [
       "                  authors      publish_date  \\\n",
       "0                      []   2020-05-03 1:30   \n",
       "1                      []   2020-05-02 8:00   \n",
       "2  ['The Canadian Press']  2020-05-02 11:28   \n",
       "3                      []  2020-05-02 18:45   \n",
       "4                      []  2020-05-02 18:45   \n",
       "\n",
       "                                                 url  \\\n",
       "0  https://www.cbc.ca/news/canada/calgary/gay-str...   \n",
       "1  https://www.cbc.ca/news/technology/droplet-tra...   \n",
       "2  https://www.cbc.ca/news/canada/coronavirus-cov...   \n",
       "3  https://www.cbc.ca/news/canada/british-columbi...   \n",
       "4  https://www.cbc.ca/news/canada/british-columbi...   \n",
       "\n",
       "                                             content  \n",
       "0  'More vital now:' Gay-straight alliances go vi...  \n",
       "1  Scientists aim to 'see' invisible transmission...  \n",
       "2  Coronavirus: What's happening in Canada and ar...  \n",
       "3  B.C. announces 26 new coronavirus cases, new c...  \n",
       "4  B.C. announces 26 new coronavirus cases, new c...  "
      ],
      "text/html": "<div>\n<style scoped>\n    .dataframe tbody tr th:only-of-type {\n        vertical-align: middle;\n    }\n\n    .dataframe tbody tr th {\n        vertical-align: top;\n    }\n\n    .dataframe thead th {\n        text-align: right;\n    }\n</style>\n<table border=\"1\" class=\"dataframe\">\n  <thead>\n    <tr style=\"text-align: right;\">\n      <th></th>\n      <th>authors</th>\n      <th>publish_date</th>\n      <th>url</th>\n      <th>content</th>\n    </tr>\n  </thead>\n  <tbody>\n    <tr>\n      <th>0</th>\n      <td>[]</td>\n      <td>2020-05-03 1:30</td>\n      <td>https://www.cbc.ca/news/canada/calgary/gay-str...</td>\n      <td>'More vital now:' Gay-straight alliances go vi...</td>\n    </tr>\n    <tr>\n      <th>1</th>\n      <td>[]</td>\n      <td>2020-05-02 8:00</td>\n      <td>https://www.cbc.ca/news/technology/droplet-tra...</td>\n      <td>Scientists aim to 'see' invisible transmission...</td>\n    </tr>\n    <tr>\n      <th>2</th>\n      <td>['The Canadian Press']</td>\n      <td>2020-05-02 11:28</td>\n      <td>https://www.cbc.ca/news/canada/coronavirus-cov...</td>\n      <td>Coronavirus: What's happening in Canada and ar...</td>\n    </tr>\n    <tr>\n      <th>3</th>\n      <td>[]</td>\n      <td>2020-05-02 18:45</td>\n      <td>https://www.cbc.ca/news/canada/british-columbi...</td>\n      <td>B.C. announces 26 new coronavirus cases, new c...</td>\n    </tr>\n    <tr>\n      <th>4</th>\n      <td>[]</td>\n      <td>2020-05-02 18:45</td>\n      <td>https://www.cbc.ca/news/canada/british-columbi...</td>\n      <td>B.C. announces 26 new coronavirus cases, new c...</td>\n    </tr>\n  </tbody>\n</table>\n</div>"
     },
     "metadata": {},
     "execution_count": 2
    }
   ],
   "source": [
    "news = news_original.copy()\n",
    "\n",
    "contents = []\n",
    "for index, row in news.iterrows():\n",
    "  content = ''\n",
    "  if isinstance(row['title'], str):\n",
    "    content += row['title']\n",
    "  if isinstance(row['description'], str):\n",
    "    content += row['description']\n",
    "  if isinstance(row['text'], str):\n",
    "    content += row['text']\n",
    "  contents.append(content)\n",
    "\n",
    "news['content'] = contents[:]\n",
    "\n",
    "del news['title'], news['description'], news['text']\n",
    "news.head()"
   ]
  },
  {
   "cell_type": "code",
   "execution_count": 3,
   "metadata": {},
   "outputs": [
    {
     "output_type": "stream",
     "name": "stderr",
     "text": [
      "[nltk_data] Downloading package wordnet to /home/andrew/nltk_data...\n[nltk_data]   Package wordnet is already up-to-date!\n[nltk_data] Downloading package averaged_perceptron_tagger to\n[nltk_data]     /home/andrew/nltk_data...\n[nltk_data]   Package averaged_perceptron_tagger is already up-to-\n[nltk_data]       date!\n"
     ]
    }
   ],
   "source": [
    "from gensim.utils import simple_preprocess\n",
    "from gensim.parsing.preprocessing import STOPWORDS\n",
    "\n",
    "from nltk import download\n",
    "download('wordnet')\n",
    "download('averaged_perceptron_tagger')\n",
    "\n",
    "from nltk import WordNetLemmatizer, pos_tag\n",
    "from nltk.corpus import wordnet\n",
    "\n",
    "def get_pos(token):  # get part of speech\n",
    "  tag = pos_tag([token])[0][1][0].upper()\n",
    "  tag_dict = {\n",
    "    \"J\": wordnet.ADJ,\n",
    "    \"N\": wordnet.NOUN,\n",
    "    \"V\": wordnet.VERB,\n",
    "    \"R\": wordnet.ADV\n",
    "  }\n",
    "  return tag_dict.get(tag, wordnet.NOUN)"
   ]
  },
  {
   "cell_type": "code",
   "execution_count": 4,
   "metadata": {},
   "outputs": [
    {
     "output_type": "execute_result",
     "data": {
      "text/plain": [
       "                     authors      publish_date  \\\n",
       "0                         []   2020-05-03 1:30   \n",
       "1                         []   2020-05-02 8:00   \n",
       "2     ['The Canadian Press']  2020-05-02 11:28   \n",
       "3                         []  2020-05-02 18:45   \n",
       "4                         []  2020-05-02 18:45   \n",
       "...                      ...               ...   \n",
       "6782            ['Cbc News']  2020-04-06 10:49   \n",
       "6783            ['Cbc News']  2020-03-18 17:08   \n",
       "6784            ['Cbc News']  2020-04-19 11:30   \n",
       "6785                      []  2020-03-31 12:55   \n",
       "6786                      []   2020-04-06 9:00   \n",
       "\n",
       "                                                    url  \\\n",
       "0     https://www.cbc.ca/news/canada/calgary/gay-str...   \n",
       "1     https://www.cbc.ca/news/technology/droplet-tra...   \n",
       "2     https://www.cbc.ca/news/canada/coronavirus-cov...   \n",
       "3     https://www.cbc.ca/news/canada/british-columbi...   \n",
       "4     https://www.cbc.ca/news/canada/british-columbi...   \n",
       "...                                                 ...   \n",
       "6782  https://www.cbc.ca/news/canada/windsor/fishing...   \n",
       "6783  https://www.cbc.ca/news/canada/ottawa/tunneys-...   \n",
       "6784  https://www.cbc.ca/news/canada/newfoundland-la...   \n",
       "6785  https://www.cbc.ca/news/canada/edmonton/shawn-...   \n",
       "6786  https://www.cbc.ca/news/canada/nova-scotia/cla...   \n",
       "\n",
       "                                                content  \\\n",
       "0     'More vital now:' Gay-straight alliances go vi...   \n",
       "1     Scientists aim to 'see' invisible transmission...   \n",
       "2     Coronavirus: What's happening in Canada and ar...   \n",
       "3     B.C. announces 26 new coronavirus cases, new c...   \n",
       "4     B.C. announces 26 new coronavirus cases, new c...   \n",
       "...                                                 ...   \n",
       "6782  Fishing industry in Windsor-Essex shut down du...   \n",
       "6783  Health Canada worker tests positive for COVID-...   \n",
       "6784  Taxis adapting to COVID-19 with plastic shield...   \n",
       "6785  'An amazing man': Young father identified as n...   \n",
       "6786  N.S. municipality warns against annual Easter ...   \n",
       "\n",
       "                                   preprocessed_content  \n",
       "0     vital gay straight alliance virtual coronaviru...  \n",
       "1     scientist aim invisible transmission coronavir...  \n",
       "2     coronavirus happen canada world canada chief p...  \n",
       "3     announces new coronavirus case new community o...  \n",
       "4     announces new coronavirus case new community o...  \n",
       "...                                                 ...  \n",
       "6782  fishing industry windsor essex shut peak seaso...  \n",
       "6783  health canada worker test positive covid healt...  \n",
       "6784  taxi adapt covid plastic shield passenger limi...  \n",
       "6785  amaze man young father identify northern alber...  \n",
       "6786  municipality warns annual easter weekend canoe...  \n",
       "\n",
       "[6788 rows x 5 columns]"
      ],
      "text/html": "<div>\n<style scoped>\n    .dataframe tbody tr th:only-of-type {\n        vertical-align: middle;\n    }\n\n    .dataframe tbody tr th {\n        vertical-align: top;\n    }\n\n    .dataframe thead th {\n        text-align: right;\n    }\n</style>\n<table border=\"1\" class=\"dataframe\">\n  <thead>\n    <tr style=\"text-align: right;\">\n      <th></th>\n      <th>authors</th>\n      <th>publish_date</th>\n      <th>url</th>\n      <th>content</th>\n      <th>preprocessed_content</th>\n    </tr>\n  </thead>\n  <tbody>\n    <tr>\n      <th>0</th>\n      <td>[]</td>\n      <td>2020-05-03 1:30</td>\n      <td>https://www.cbc.ca/news/canada/calgary/gay-str...</td>\n      <td>'More vital now:' Gay-straight alliances go vi...</td>\n      <td>vital gay straight alliance virtual coronaviru...</td>\n    </tr>\n    <tr>\n      <th>1</th>\n      <td>[]</td>\n      <td>2020-05-02 8:00</td>\n      <td>https://www.cbc.ca/news/technology/droplet-tra...</td>\n      <td>Scientists aim to 'see' invisible transmission...</td>\n      <td>scientist aim invisible transmission coronavir...</td>\n    </tr>\n    <tr>\n      <th>2</th>\n      <td>['The Canadian Press']</td>\n      <td>2020-05-02 11:28</td>\n      <td>https://www.cbc.ca/news/canada/coronavirus-cov...</td>\n      <td>Coronavirus: What's happening in Canada and ar...</td>\n      <td>coronavirus happen canada world canada chief p...</td>\n    </tr>\n    <tr>\n      <th>3</th>\n      <td>[]</td>\n      <td>2020-05-02 18:45</td>\n      <td>https://www.cbc.ca/news/canada/british-columbi...</td>\n      <td>B.C. announces 26 new coronavirus cases, new c...</td>\n      <td>announces new coronavirus case new community o...</td>\n    </tr>\n    <tr>\n      <th>4</th>\n      <td>[]</td>\n      <td>2020-05-02 18:45</td>\n      <td>https://www.cbc.ca/news/canada/british-columbi...</td>\n      <td>B.C. announces 26 new coronavirus cases, new c...</td>\n      <td>announces new coronavirus case new community o...</td>\n    </tr>\n    <tr>\n      <th>...</th>\n      <td>...</td>\n      <td>...</td>\n      <td>...</td>\n      <td>...</td>\n      <td>...</td>\n    </tr>\n    <tr>\n      <th>6782</th>\n      <td>['Cbc News']</td>\n      <td>2020-04-06 10:49</td>\n      <td>https://www.cbc.ca/news/canada/windsor/fishing...</td>\n      <td>Fishing industry in Windsor-Essex shut down du...</td>\n      <td>fishing industry windsor essex shut peak seaso...</td>\n    </tr>\n    <tr>\n      <th>6783</th>\n      <td>['Cbc News']</td>\n      <td>2020-03-18 17:08</td>\n      <td>https://www.cbc.ca/news/canada/ottawa/tunneys-...</td>\n      <td>Health Canada worker tests positive for COVID-...</td>\n      <td>health canada worker test positive covid healt...</td>\n    </tr>\n    <tr>\n      <th>6784</th>\n      <td>['Cbc News']</td>\n      <td>2020-04-19 11:30</td>\n      <td>https://www.cbc.ca/news/canada/newfoundland-la...</td>\n      <td>Taxis adapting to COVID-19 with plastic shield...</td>\n      <td>taxi adapt covid plastic shield passenger limi...</td>\n    </tr>\n    <tr>\n      <th>6785</th>\n      <td>[]</td>\n      <td>2020-03-31 12:55</td>\n      <td>https://www.cbc.ca/news/canada/edmonton/shawn-...</td>\n      <td>'An amazing man': Young father identified as n...</td>\n      <td>amaze man young father identify northern alber...</td>\n    </tr>\n    <tr>\n      <th>6786</th>\n      <td>[]</td>\n      <td>2020-04-06 9:00</td>\n      <td>https://www.cbc.ca/news/canada/nova-scotia/cla...</td>\n      <td>N.S. municipality warns against annual Easter ...</td>\n      <td>municipality warns annual easter weekend canoe...</td>\n    </tr>\n  </tbody>\n</table>\n<p>6788 rows × 5 columns</p>\n</div>"
     },
     "metadata": {},
     "execution_count": 4
    }
   ],
   "source": [
    "wnl = WordNetLemmatizer()\n",
    "\n",
    "preprocessed_content = []\n",
    "\n",
    "for index, row in news.iterrows():\n",
    "  content = []\n",
    "  for token in simple_preprocess(row['content']):\n",
    "    if not (token in STOPWORDS):\n",
    "      content.append(wnl.lemmatize(token, pos=get_pos(token)))\n",
    "  preprocessed_content.append(' '.join(content))\n",
    "\n",
    "news['preprocessed_content'] = preprocessed_content[:]\n",
    "news"
   ]
  },
  {
   "cell_type": "code",
   "execution_count": 5,
   "metadata": {},
   "outputs": [],
   "source": [
    "from gensim.models import Phrases\n",
    "from gensim.models.phrases import Phraser\n",
    "\n",
    "bigram_model = Phrases([ content.split() for content in preprocessed_content ])"
   ]
  },
  {
   "cell_type": "code",
   "execution_count": 6,
   "metadata": {},
   "outputs": [
    {
     "output_type": "execute_result",
     "data": {
      "text/plain": [
       "                  authors      publish_date  \\\n",
       "0                      []   2020-05-03 1:30   \n",
       "1                      []   2020-05-02 8:00   \n",
       "2  ['The Canadian Press']  2020-05-02 11:28   \n",
       "3                      []  2020-05-02 18:45   \n",
       "4                      []  2020-05-02 18:45   \n",
       "\n",
       "                                                 url  \\\n",
       "0  https://www.cbc.ca/news/canada/calgary/gay-str...   \n",
       "1  https://www.cbc.ca/news/technology/droplet-tra...   \n",
       "2  https://www.cbc.ca/news/canada/coronavirus-cov...   \n",
       "3  https://www.cbc.ca/news/canada/british-columbi...   \n",
       "4  https://www.cbc.ca/news/canada/british-columbi...   \n",
       "\n",
       "                                             content  \\\n",
       "0  'More vital now:' Gay-straight alliances go vi...   \n",
       "1  Scientists aim to 'see' invisible transmission...   \n",
       "2  Coronavirus: What's happening in Canada and ar...   \n",
       "3  B.C. announces 26 new coronavirus cases, new c...   \n",
       "4  B.C. announces 26 new coronavirus cases, new c...   \n",
       "\n",
       "                                preprocessed_content  \n",
       "0  vital gay_straight alliance virtual coronaviru...  \n",
       "1  scientist aim invisible transmission coronavir...  \n",
       "2  coronavirus happen canada world canada chief_p...  \n",
       "3  announces_new coronavirus case new community o...  \n",
       "4  announces_new coronavirus case new community o...  "
      ],
      "text/html": "<div>\n<style scoped>\n    .dataframe tbody tr th:only-of-type {\n        vertical-align: middle;\n    }\n\n    .dataframe tbody tr th {\n        vertical-align: top;\n    }\n\n    .dataframe thead th {\n        text-align: right;\n    }\n</style>\n<table border=\"1\" class=\"dataframe\">\n  <thead>\n    <tr style=\"text-align: right;\">\n      <th></th>\n      <th>authors</th>\n      <th>publish_date</th>\n      <th>url</th>\n      <th>content</th>\n      <th>preprocessed_content</th>\n    </tr>\n  </thead>\n  <tbody>\n    <tr>\n      <th>0</th>\n      <td>[]</td>\n      <td>2020-05-03 1:30</td>\n      <td>https://www.cbc.ca/news/canada/calgary/gay-str...</td>\n      <td>'More vital now:' Gay-straight alliances go vi...</td>\n      <td>vital gay_straight alliance virtual coronaviru...</td>\n    </tr>\n    <tr>\n      <th>1</th>\n      <td>[]</td>\n      <td>2020-05-02 8:00</td>\n      <td>https://www.cbc.ca/news/technology/droplet-tra...</td>\n      <td>Scientists aim to 'see' invisible transmission...</td>\n      <td>scientist aim invisible transmission coronavir...</td>\n    </tr>\n    <tr>\n      <th>2</th>\n      <td>['The Canadian Press']</td>\n      <td>2020-05-02 11:28</td>\n      <td>https://www.cbc.ca/news/canada/coronavirus-cov...</td>\n      <td>Coronavirus: What's happening in Canada and ar...</td>\n      <td>coronavirus happen canada world canada chief_p...</td>\n    </tr>\n    <tr>\n      <th>3</th>\n      <td>[]</td>\n      <td>2020-05-02 18:45</td>\n      <td>https://www.cbc.ca/news/canada/british-columbi...</td>\n      <td>B.C. announces 26 new coronavirus cases, new c...</td>\n      <td>announces_new coronavirus case new community o...</td>\n    </tr>\n    <tr>\n      <th>4</th>\n      <td>[]</td>\n      <td>2020-05-02 18:45</td>\n      <td>https://www.cbc.ca/news/canada/british-columbi...</td>\n      <td>B.C. announces 26 new coronavirus cases, new c...</td>\n      <td>announces_new coronavirus case new community o...</td>\n    </tr>\n  </tbody>\n</table>\n</div>"
     },
     "metadata": {},
     "execution_count": 6
    }
   ],
   "source": [
    "enriched_content = []\n",
    "\n",
    "for index, row in news.iterrows():\n",
    "  enriched_content.append(bigram_model[row['preprocessed_content'].split()])\n",
    "\n",
    "news['preprocessed_content'] = [ ' '.join(content) for content in enriched_content ]\n",
    "news.head()"
   ]
  },
  {
   "cell_type": "code",
   "execution_count": 39,
   "metadata": {},
   "outputs": [],
   "source": [
    "from gensim.corpora import Dictionary\n",
    "\n",
    "dictionary = Dictionary(enriched_content)\n",
    "dictionary.filter_extremes(no_below=20, no_above=0.4, keep_n=10000)\n",
    "#bag of words\n",
    "bow = [ dictionary.doc2bow(content) for content in enriched_content ]"
   ]
  },
  {
   "cell_type": "code",
   "execution_count": 40,
   "metadata": {},
   "outputs": [],
   "source": [
    "from gensim.models  import LdaMulticore\n",
    "\n",
    "model = LdaMulticore(\n",
    "    bow,\n",
    "    id2word = dictionary,\n",
    "    num_topics = 25,\n",
    "    chunksize = 1000,\n",
    "    passes = 200,\n",
    "    alpha=50/25,\n",
    "    workers = 6,\n",
    "    random_state = 10\n",
    ")"
   ]
  },
  {
   "cell_type": "code",
   "execution_count": 41,
   "metadata": {},
   "outputs": [
    {
     "output_type": "stream",
     "name": "stdout",
     "text": [
      "Topic 0: 0.103*\"test\" + 0.022*\"symptom\" + 0.018*\"test_positive\" + 0.017*\"confirm\" + 0.015*\"contact\" + 0.014*\"person\" + 0.014*\"positive\" + 0.013*\"new_brunswick\" + 0.012*\"result\" + 0.011*\"centre\"\nTopic 1: 0.032*\"quebec\" + 0.025*\"montreal\" + 0.022*\"region\" + 0.018*\"hamilton\" + 0.015*\"city\" + 0.011*\"service\" + 0.011*\"windsor\" + 0.009*\"march\" + 0.009*\"local\" + 0.008*\"legault\"\nTopic 2: 0.021*\"family\" + 0.013*\"life\" + 0.010*\"year\" + 0.008*\"get\" + 0.008*\"way\" + 0.007*\"event\" + 0.007*\"love\" + 0.007*\"feel\" + 0.006*\"want\" + 0.006*\"friend\"\nTopic 3: 0.038*\"business\" + 0.021*\"href_http\" + 0.019*\"customer\" + 0.019*\"food\" + 0.017*\"store\" + 0.013*\"twitter_com\" + 0.013*\"restaurant\" + 0.009*\"owner\" + 0.009*\"twsrc_etfw\" + 0.009*\"local\"\nTopic 4: 0.021*\"order\" + 0.018*\"emergency\" + 0.013*\"state_emergency\" + 0.012*\"territory\" + 0.011*\"kandola\" + 0.010*\"health_officer\" + 0.010*\"want\" + 0.010*\"march\" + 0.009*\"public\" + 0.008*\"yellowknife\"\nTopic 5: 0.075*\"worker\" + 0.037*\"company\" + 0.034*\"employee\" + 0.015*\"plant\" + 0.012*\"union\" + 0.011*\"operation\" + 0.010*\"year\" + 0.008*\"safety\" + 0.008*\"season\" + 0.007*\"industry\"\nTopic 6: 0.069*\"manitoba\" + 0.025*\"winnipeg\" + 0.013*\"start\" + 0.012*\"roussin\" + 0.011*\"provincial\" + 0.011*\"look\" + 0.010*\"right\" + 0.010*\"manitobans\" + 0.009*\"pallister\" + 0.009*\"share\"\nTopic 7: 0.032*\"state\" + 0.017*\"trump\" + 0.016*\"country\" + 0.011*\"new_york\" + 0.010*\"united_state\" + 0.010*\"tuesday\" + 0.009*\"president\" + 0.008*\"official\" + 0.008*\"order\" + 0.007*\"american\"\nTopic 8: 0.054*\"ottawa\" + 0.021*\"march\" + 0.020*\"ontario\" + 0.020*\"close\" + 0.018*\"ask\" + 0.018*\"self_isolate\" + 0.018*\"symptom\" + 0.014*\"open\" + 0.013*\"visit\" + 0.012*\"travel\"\nTopic 9: 0.020*\"member\" + 0.018*\"nation\" + 0.017*\"north\" + 0.016*\"service\" + 0.014*\"newfoundland_labrador\" + 0.013*\"minister\" + 0.013*\"schedule\" + 0.012*\"association\" + 0.011*\"nunavut\" + 0.011*\"travel\"\nTopic 10: 0.088*\"hospital\" + 0.066*\"patient\" + 0.033*\"ontario\" + 0.020*\"doctor\" + 0.019*\"care\" + 0.016*\"ventilator\" + 0.010*\"unit\" + 0.010*\"toronto\" + 0.009*\"nurse\" + 0.009*\"bed\"\nTopic 11: 0.037*\"nova_scotia\" + 0.014*\"information\" + 0.014*\"announce\" + 0.013*\"care\" + 0.013*\"test\" + 0.013*\"island\" + 0.012*\"morrison\" + 0.012*\"centre\" + 0.011*\"strang\" + 0.010*\"friday\"\nTopic 12: 0.033*\"order\" + 0.030*\"police\" + 0.025*\"call\" + 0.024*\"saskatchewan\" + 0.017*\"service\" + 0.017*\"public\" + 0.016*\"officer\" + 0.012*\"report\" + 0.010*\"rule\" + 0.010*\"related\"\nTopic 13: 0.054*\"student\" + 0.050*\"school\" + 0.026*\"child\" + 0.020*\"program\" + 0.018*\"parent\" + 0.018*\"learn\" + 0.013*\"support\" + 0.012*\"kid\" + 0.012*\"university\" + 0.011*\"family\"\nTopic 14: 0.046*\"alberta\" + 0.023*\"death\" + 0.016*\"reopen\" + 0.015*\"report\" + 0.013*\"announce\" + 0.012*\"monday\" + 0.012*\"measure\" + 0.012*\"saturday\" + 0.011*\"plan\" + 0.011*\"friday\"\nTopic 15: 0.015*\"client\" + 0.012*\"senior\" + 0.011*\"court\" + 0.011*\"inmate\" + 0.011*\"decision\" + 0.011*\"change\" + 0.010*\"visit\" + 0.010*\"person\" + 0.009*\"phone\" + 0.008*\"issue\"\nTopic 16: 0.017*\"cbc_news\" + 0.013*\"news\" + 0.012*\"information\" + 0.010*\"election\" + 0.008*\"canadian\" + 0.008*\"message\" + 0.007*\"right\" + 0.007*\"give\" + 0.007*\"post\" + 0.007*\"read\"\nTopic 17: 0.038*\"long_term\" + 0.036*\"resident\" + 0.032*\"staff\" + 0.029*\"outbreak\" + 0.026*\"care\" + 0.026*\"care_home\" + 0.026*\"facility\" + 0.020*\"death\" + 0.019*\"die\" + 0.016*\"test_positive\"\nTopic 18: 0.024*\"cent\" + 0.018*\"year\" + 0.016*\"million\" + 0.016*\"economy\" + 0.013*\"month\" + 0.010*\"cut\" + 0.009*\"market\" + 0.009*\"impact\" + 0.009*\"business\" + 0.008*\"expect\"\nTopic 19: 0.012*\"world\" + 0.009*\"spread\" + 0.009*\"disease\" + 0.008*\"study\" + 0.008*\"think\" + 0.008*\"expert\" + 0.008*\"research\" + 0.007*\"infect\" + 0.007*\"cause\" + 0.006*\"infection\"\nTopic 20: 0.042*\"mask\" + 0.027*\"supply\" + 0.017*\"equipment\" + 0.016*\"use\" + 0.012*\"protect\" + 0.010*\"care_worker\" + 0.010*\"personal_protective\" + 0.009*\"ppe\" + 0.008*\"hand_sanitizer\" + 0.008*\"wear_mask\"\nTopic 21: 0.016*\"restriction\" + 0.013*\"close\" + 0.012*\"yukon\" + 0.011*\"town\" + 0.010*\"concern\" + 0.010*\"risk\" + 0.009*\"territory\" + 0.009*\"mental_health\" + 0.009*\"place\" + 0.008*\"resident\"\nTopic 22: 0.022*\"canadian\" + 0.017*\"emergency\" + 0.017*\"federal_government\" + 0.014*\"crisis\" + 0.014*\"prime_minister\" + 0.014*\"support\" + 0.013*\"trudeau\" + 0.013*\"federal\" + 0.013*\"measure\" + 0.010*\"response\"\nTopic 23: 0.033*\"china\" + 0.027*\"canadian\" + 0.025*\"country\" + 0.023*\"outbreak\" + 0.015*\"quarantine\" + 0.013*\"travel\" + 0.011*\"report\" + 0.011*\"passenger\" + 0.010*\"chinese\" + 0.010*\"flight\"\nTopic 24: 0.075*\"city\" + 0.019*\"service\" + 0.015*\"park\" + 0.014*\"close\" + 0.013*\"toronto\" + 0.011*\"vancouver\" + 0.011*\"driver\" + 0.011*\"space\" + 0.010*\"shelter\" + 0.009*\"centre\"\n"
     ]
    }
   ],
   "source": [
    "for topic, words in model.print_topics(-1):\n",
    "    print('Topic {}: {}'.format(topic, words))"
   ]
  },
  {
   "cell_type": "code",
   "execution_count": 42,
   "metadata": {},
   "outputs": [],
   "source": [
    "topics_count = [ [topic, 0] for topic in range(25) ]\n",
    "\n",
    "for content in bow:\n",
    "    topics = model.get_document_topics(content, minimum_probability=0.1)\n",
    "    for topic, weight in topics:\n",
    "        topics_count[topic][1] += 1"
   ]
  },
  {
   "cell_type": "code",
   "execution_count": 43,
   "metadata": {},
   "outputs": [
    {
     "output_type": "display_data",
     "data": {
      "text/plain": "<Figure size 1440x360 with 1 Axes>",
      "image/svg+xml": "<?xml version=\"1.0\" encoding=\"utf-8\" standalone=\"no\"?>\n<!DOCTYPE svg PUBLIC \"-//W3C//DTD SVG 1.1//EN\"\n  \"http://www.w3.org/Graphics/SVG/1.1/DTD/svg11.dtd\">\n<!-- Created with matplotlib (https://matplotlib.org/) -->\n<svg height=\"352.478125pt\" version=\"1.1\" viewBox=\"0 0 1433 352.478125\" width=\"1433pt\" xmlns=\"http://www.w3.org/2000/svg\" xmlns:xlink=\"http://www.w3.org/1999/xlink\">\n <defs>\n  <style type=\"text/css\">\n*{stroke-linecap:butt;stroke-linejoin:round;}\n  </style>\n </defs>\n <g id=\"figure_1\">\n  <g id=\"patch_1\">\n   <path d=\"M 0 352.478125 \nL 1433 352.478125 \nL 1433 0 \nL 0 0 \nz\n\" style=\"fill:none;\"/>\n  </g>\n  <g id=\"axes_1\">\n   <g id=\"patch_2\">\n    <path d=\"M 39.65 328.6 \nL 1425.8 328.6 \nL 1425.8 7.2 \nL 39.65 7.2 \nz\n\" style=\"fill:#ffffff;\"/>\n   </g>\n   <g id=\"patch_3\">\n    <path clip-path=\"url(#pefb664d5e0)\" d=\"M 45.1946 328.6 \nL 89.5514 328.6 \nL 89.5514 22.504762 \nL 45.1946 22.504762 \nz\n\" style=\"fill:#ea96a3;\"/>\n   </g>\n   <g id=\"patch_4\">\n    <path clip-path=\"url(#pefb664d5e0)\" d=\"M 100.6406 328.6 \nL 144.9974 328.6 \nL 144.9974 51.989854 \nL 100.6406 51.989854 \nz\n\" style=\"fill:#e8968c;\"/>\n   </g>\n   <g id=\"patch_5\">\n    <path clip-path=\"url(#pefb664d5e0)\" d=\"M 156.0866 328.6 \nL 200.4434 328.6 \nL 200.4434 101.964587 \nL 156.0866 101.964587 \nz\n\" style=\"fill:#e2925a;\"/>\n   </g>\n   <g id=\"patch_6\">\n    <path clip-path=\"url(#pefb664d5e0)\" d=\"M 211.5326 328.6 \nL 255.8894 328.6 \nL 255.8894 132.1993 \nL 211.5326 132.1993 \nz\n\" style=\"fill:#cd974c;\"/>\n   </g>\n   <g id=\"patch_7\">\n    <path clip-path=\"url(#pefb664d5e0)\" d=\"M 266.9786 328.6 \nL 311.3354 328.6 \nL 311.3354 134.19829 \nL 266.9786 134.19829 \nz\n\" style=\"fill:#bb9b49;\"/>\n   </g>\n   <g id=\"patch_8\">\n    <path clip-path=\"url(#pefb664d5e0)\" d=\"M 322.4246 328.6 \nL 366.7814 328.6 \nL 366.7814 148.940836 \nL 322.4246 148.940836 \nz\n\" style=\"fill:#ab9e47;\"/>\n   </g>\n   <g id=\"patch_9\">\n    <path clip-path=\"url(#pefb664d5e0)\" d=\"M 377.8706 328.6 \nL 422.2274 328.6 \nL 422.2274 149.690457 \nL 377.8706 149.690457 \nz\n\" style=\"fill:#9ca146;\"/>\n   </g>\n   <g id=\"patch_10\">\n    <path clip-path=\"url(#pefb664d5e0)\" d=\"M 433.3166 328.6 \nL 477.6734 328.6 \nL 477.6734 154.937804 \nL 433.3166 154.937804 \nz\n\" style=\"fill:#8ba646;\"/>\n   </g>\n   <g id=\"patch_11\">\n    <path clip-path=\"url(#pefb664d5e0)\" d=\"M 488.7626 328.6 \nL 533.1194 328.6 \nL 533.1194 165.182624 \nL 488.7626 165.182624 \nz\n\" style=\"fill:#6fac47;\"/>\n   </g>\n   <g id=\"patch_12\">\n    <path clip-path=\"url(#pefb664d5e0)\" d=\"M 544.2086 328.6 \nL 588.5654 328.6 \nL 588.5654 185.672264 \nL 544.2086 185.672264 \nz\n\" style=\"fill:#48b062;\"/>\n   </g>\n   <g id=\"patch_13\">\n    <path clip-path=\"url(#pefb664d5e0)\" d=\"M 599.6546 328.6 \nL 644.0114 328.6 \nL 644.0114 196.916579 \nL 599.6546 196.916579 \nz\n\" style=\"fill:#49ae83;\"/>\n   </g>\n   <g id=\"patch_14\">\n    <path clip-path=\"url(#pefb664d5e0)\" d=\"M 655.1006 328.6 \nL 699.4574 328.6 \nL 699.4574 197.166453 \nL 655.1006 197.166453 \nz\n\" style=\"fill:#4aad93;\"/>\n   </g>\n   <g id=\"patch_15\">\n    <path clip-path=\"url(#pefb664d5e0)\" d=\"M 710.5466 328.6 \nL 754.9034 328.6 \nL 754.9034 204.912536 \nL 710.5466 204.912536 \nz\n\" style=\"fill:#4bac9f;\"/>\n   </g>\n   <g id=\"patch_16\">\n    <path clip-path=\"url(#pefb664d5e0)\" d=\"M 765.9926 328.6 \nL 810.3494 328.6 \nL 810.3494 209.91001 \nL 765.9926 209.91001 \nz\n\" style=\"fill:#4baba9;\"/>\n   </g>\n   <g id=\"patch_17\">\n    <path clip-path=\"url(#pefb664d5e0)\" d=\"M 821.4386 328.6 \nL 865.7954 328.6 \nL 865.7954 210.909504 \nL 821.4386 210.909504 \nz\n\" style=\"fill:#4eabb5;\"/>\n   </g>\n   <g id=\"patch_18\">\n    <path clip-path=\"url(#pefb664d5e0)\" d=\"M 876.8846 328.6 \nL 921.2414 328.6 \nL 921.2414 224.90243 \nL 876.8846 224.90243 \nz\n\" style=\"fill:#50acc3;\"/>\n   </g>\n   <g id=\"patch_19\">\n    <path clip-path=\"url(#pefb664d5e0)\" d=\"M 932.3306 328.6 \nL 976.6874 328.6 \nL 976.6874 232.148766 \nL 932.3306 232.148766 \nz\n\" style=\"fill:#55acd5;\"/>\n   </g>\n   <g id=\"patch_20\">\n    <path clip-path=\"url(#pefb664d5e0)\" d=\"M 987.7766 328.6 \nL 1032.1334 328.6 \nL 1032.1334 233.648008 \nL 987.7766 233.648008 \nz\n\" style=\"fill:#7faee5;\"/>\n   </g>\n   <g id=\"patch_21\">\n    <path clip-path=\"url(#pefb664d5e0)\" d=\"M 1043.2226 328.6 \nL 1087.5794 328.6 \nL 1087.5794 245.891817 \nL 1043.2226 245.891817 \nz\n\" style=\"fill:#a4acea;\"/>\n   </g>\n   <g id=\"patch_22\">\n    <path clip-path=\"url(#pefb664d5e0)\" d=\"M 1098.6686 328.6 \nL 1143.0254 328.6 \nL 1143.0254 248.14068 \nL 1098.6686 248.14068 \nz\n\" style=\"fill:#bba5ea;\"/>\n   </g>\n   <g id=\"patch_23\">\n    <path clip-path=\"url(#pefb664d5e0)\" d=\"M 1154.1146 328.6 \nL 1198.4714 328.6 \nL 1198.4714 250.13967 \nL 1154.1146 250.13967 \nz\n\" style=\"fill:#ce9be9;\"/>\n   </g>\n   <g id=\"patch_24\">\n    <path clip-path=\"url(#pefb664d5e0)\" d=\"M 1209.5606 328.6 \nL 1253.9174 328.6 \nL 1253.9174 252.638406 \nL 1209.5606 252.638406 \nz\n\" style=\"fill:#e28ce7;\"/>\n   </g>\n   <g id=\"patch_25\">\n    <path clip-path=\"url(#pefb664d5e0)\" d=\"M 1265.0066 328.6 \nL 1309.3634 328.6 \nL 1309.3634 259.384995 \nL 1265.0066 259.384995 \nz\n\" style=\"fill:#e78dd5;\"/>\n   </g>\n   <g id=\"patch_26\">\n    <path clip-path=\"url(#pefb664d5e0)\" d=\"M 1320.4526 328.6 \nL 1364.8094 328.6 \nL 1364.8094 265.631837 \nL 1320.4526 265.631837 \nz\n\" style=\"fill:#e890c4;\"/>\n   </g>\n   <g id=\"patch_27\">\n    <path clip-path=\"url(#pefb664d5e0)\" d=\"M 1375.8986 328.6 \nL 1420.2554 328.6 \nL 1420.2554 301.363771 \nL 1375.8986 301.363771 \nz\n\" style=\"fill:#e993b5;\"/>\n   </g>\n   <g id=\"matplotlib.axis_1\">\n    <g id=\"xtick_1\">\n     <g id=\"line2d_1\">\n      <defs>\n       <path d=\"M 0 0 \nL 0 3.5 \n\" id=\"mdd9465da35\" style=\"stroke:#000000;stroke-width:0.8;\"/>\n      </defs>\n      <g>\n       <use style=\"stroke:#000000;stroke-width:0.8;\" x=\"67.373\" xlink:href=\"#mdd9465da35\" y=\"328.6\"/>\n      </g>\n     </g>\n     <g id=\"text_1\">\n      <!-- 2 -->\n      <defs>\n       <path d=\"M 19.1875 8.296875 \nL 53.609375 8.296875 \nL 53.609375 0 \nL 7.328125 0 \nL 7.328125 8.296875 \nQ 12.9375 14.109375 22.625 23.890625 \nQ 32.328125 33.6875 34.8125 36.53125 \nQ 39.546875 41.84375 41.421875 45.53125 \nQ 43.3125 49.21875 43.3125 52.78125 \nQ 43.3125 58.59375 39.234375 62.25 \nQ 35.15625 65.921875 28.609375 65.921875 \nQ 23.96875 65.921875 18.8125 64.3125 \nQ 13.671875 62.703125 7.8125 59.421875 \nL 7.8125 69.390625 \nQ 13.765625 71.78125 18.9375 73 \nQ 24.125 74.21875 28.421875 74.21875 \nQ 39.75 74.21875 46.484375 68.546875 \nQ 53.21875 62.890625 53.21875 53.421875 \nQ 53.21875 48.921875 51.53125 44.890625 \nQ 49.859375 40.875 45.40625 35.40625 \nQ 44.1875 33.984375 37.640625 27.21875 \nQ 31.109375 20.453125 19.1875 8.296875 \nz\n\" id=\"DejaVuSans-50\"/>\n      </defs>\n      <g transform=\"translate(64.19175 343.198437)scale(0.1 -0.1)\">\n       <use xlink:href=\"#DejaVuSans-50\"/>\n      </g>\n     </g>\n    </g>\n    <g id=\"xtick_2\">\n     <g id=\"line2d_2\">\n      <g>\n       <use style=\"stroke:#000000;stroke-width:0.8;\" x=\"122.819\" xlink:href=\"#mdd9465da35\" y=\"328.6\"/>\n      </g>\n     </g>\n     <g id=\"text_2\">\n      <!-- 23 -->\n      <defs>\n       <path d=\"M 40.578125 39.3125 \nQ 47.65625 37.796875 51.625 33 \nQ 55.609375 28.21875 55.609375 21.1875 \nQ 55.609375 10.40625 48.1875 4.484375 \nQ 40.765625 -1.421875 27.09375 -1.421875 \nQ 22.515625 -1.421875 17.65625 -0.515625 \nQ 12.796875 0.390625 7.625 2.203125 \nL 7.625 11.71875 \nQ 11.71875 9.328125 16.59375 8.109375 \nQ 21.484375 6.890625 26.8125 6.890625 \nQ 36.078125 6.890625 40.9375 10.546875 \nQ 45.796875 14.203125 45.796875 21.1875 \nQ 45.796875 27.640625 41.28125 31.265625 \nQ 36.765625 34.90625 28.71875 34.90625 \nL 20.21875 34.90625 \nL 20.21875 43.015625 \nL 29.109375 43.015625 \nQ 36.375 43.015625 40.234375 45.921875 \nQ 44.09375 48.828125 44.09375 54.296875 \nQ 44.09375 59.90625 40.109375 62.90625 \nQ 36.140625 65.921875 28.71875 65.921875 \nQ 24.65625 65.921875 20.015625 65.03125 \nQ 15.375 64.15625 9.8125 62.3125 \nL 9.8125 71.09375 \nQ 15.4375 72.65625 20.34375 73.4375 \nQ 25.25 74.21875 29.59375 74.21875 \nQ 40.828125 74.21875 47.359375 69.109375 \nQ 53.90625 64.015625 53.90625 55.328125 \nQ 53.90625 49.265625 50.4375 45.09375 \nQ 46.96875 40.921875 40.578125 39.3125 \nz\n\" id=\"DejaVuSans-51\"/>\n      </defs>\n      <g transform=\"translate(116.4565 343.198437)scale(0.1 -0.1)\">\n       <use xlink:href=\"#DejaVuSans-50\"/>\n       <use x=\"63.623047\" xlink:href=\"#DejaVuSans-51\"/>\n      </g>\n     </g>\n    </g>\n    <g id=\"xtick_3\">\n     <g id=\"line2d_3\">\n      <g>\n       <use style=\"stroke:#000000;stroke-width:0.8;\" x=\"178.265\" xlink:href=\"#mdd9465da35\" y=\"328.6\"/>\n      </g>\n     </g>\n     <g id=\"text_3\">\n      <!-- 0 -->\n      <defs>\n       <path d=\"M 31.78125 66.40625 \nQ 24.171875 66.40625 20.328125 58.90625 \nQ 16.5 51.421875 16.5 36.375 \nQ 16.5 21.390625 20.328125 13.890625 \nQ 24.171875 6.390625 31.78125 6.390625 \nQ 39.453125 6.390625 43.28125 13.890625 \nQ 47.125 21.390625 47.125 36.375 \nQ 47.125 51.421875 43.28125 58.90625 \nQ 39.453125 66.40625 31.78125 66.40625 \nz\nM 31.78125 74.21875 \nQ 44.046875 74.21875 50.515625 64.515625 \nQ 56.984375 54.828125 56.984375 36.375 \nQ 56.984375 17.96875 50.515625 8.265625 \nQ 44.046875 -1.421875 31.78125 -1.421875 \nQ 19.53125 -1.421875 13.0625 8.265625 \nQ 6.59375 17.96875 6.59375 36.375 \nQ 6.59375 54.828125 13.0625 64.515625 \nQ 19.53125 74.21875 31.78125 74.21875 \nz\n\" id=\"DejaVuSans-48\"/>\n      </defs>\n      <g transform=\"translate(175.08375 343.198437)scale(0.1 -0.1)\">\n       <use xlink:href=\"#DejaVuSans-48\"/>\n      </g>\n     </g>\n    </g>\n    <g id=\"xtick_4\">\n     <g id=\"line2d_4\">\n      <g>\n       <use style=\"stroke:#000000;stroke-width:0.8;\" x=\"233.711\" xlink:href=\"#mdd9465da35\" y=\"328.6\"/>\n      </g>\n     </g>\n     <g id=\"text_4\">\n      <!-- 19 -->\n      <defs>\n       <path d=\"M 12.40625 8.296875 \nL 28.515625 8.296875 \nL 28.515625 63.921875 \nL 10.984375 60.40625 \nL 10.984375 69.390625 \nL 28.421875 72.90625 \nL 38.28125 72.90625 \nL 38.28125 8.296875 \nL 54.390625 8.296875 \nL 54.390625 0 \nL 12.40625 0 \nz\n\" id=\"DejaVuSans-49\"/>\n       <path d=\"M 10.984375 1.515625 \nL 10.984375 10.5 \nQ 14.703125 8.734375 18.5 7.8125 \nQ 22.3125 6.890625 25.984375 6.890625 \nQ 35.75 6.890625 40.890625 13.453125 \nQ 46.046875 20.015625 46.78125 33.40625 \nQ 43.953125 29.203125 39.59375 26.953125 \nQ 35.25 24.703125 29.984375 24.703125 \nQ 19.046875 24.703125 12.671875 31.3125 \nQ 6.296875 37.9375 6.296875 49.421875 \nQ 6.296875 60.640625 12.9375 67.421875 \nQ 19.578125 74.21875 30.609375 74.21875 \nQ 43.265625 74.21875 49.921875 64.515625 \nQ 56.59375 54.828125 56.59375 36.375 \nQ 56.59375 19.140625 48.40625 8.859375 \nQ 40.234375 -1.421875 26.421875 -1.421875 \nQ 22.703125 -1.421875 18.890625 -0.6875 \nQ 15.09375 0.046875 10.984375 1.515625 \nz\nM 30.609375 32.421875 \nQ 37.25 32.421875 41.125 36.953125 \nQ 45.015625 41.5 45.015625 49.421875 \nQ 45.015625 57.28125 41.125 61.84375 \nQ 37.25 66.40625 30.609375 66.40625 \nQ 23.96875 66.40625 20.09375 61.84375 \nQ 16.21875 57.28125 16.21875 49.421875 \nQ 16.21875 41.5 20.09375 36.953125 \nQ 23.96875 32.421875 30.609375 32.421875 \nz\n\" id=\"DejaVuSans-57\"/>\n      </defs>\n      <g transform=\"translate(227.3485 343.198437)scale(0.1 -0.1)\">\n       <use xlink:href=\"#DejaVuSans-49\"/>\n       <use x=\"63.623047\" xlink:href=\"#DejaVuSans-57\"/>\n      </g>\n     </g>\n    </g>\n    <g id=\"xtick_5\">\n     <g id=\"line2d_5\">\n      <g>\n       <use style=\"stroke:#000000;stroke-width:0.8;\" x=\"289.157\" xlink:href=\"#mdd9465da35\" y=\"328.6\"/>\n      </g>\n     </g>\n     <g id=\"text_5\">\n      <!-- 17 -->\n      <defs>\n       <path d=\"M 8.203125 72.90625 \nL 55.078125 72.90625 \nL 55.078125 68.703125 \nL 28.609375 0 \nL 18.3125 0 \nL 43.21875 64.59375 \nL 8.203125 64.59375 \nz\n\" id=\"DejaVuSans-55\"/>\n      </defs>\n      <g transform=\"translate(282.7945 343.198437)scale(0.1 -0.1)\">\n       <use xlink:href=\"#DejaVuSans-49\"/>\n       <use x=\"63.623047\" xlink:href=\"#DejaVuSans-55\"/>\n      </g>\n     </g>\n    </g>\n    <g id=\"xtick_6\">\n     <g id=\"line2d_6\">\n      <g>\n       <use style=\"stroke:#000000;stroke-width:0.8;\" x=\"344.603\" xlink:href=\"#mdd9465da35\" y=\"328.6\"/>\n      </g>\n     </g>\n     <g id=\"text_6\">\n      <!-- 14 -->\n      <defs>\n       <path d=\"M 37.796875 64.3125 \nL 12.890625 25.390625 \nL 37.796875 25.390625 \nz\nM 35.203125 72.90625 \nL 47.609375 72.90625 \nL 47.609375 25.390625 \nL 58.015625 25.390625 \nL 58.015625 17.1875 \nL 47.609375 17.1875 \nL 47.609375 0 \nL 37.796875 0 \nL 37.796875 17.1875 \nL 4.890625 17.1875 \nL 4.890625 26.703125 \nz\n\" id=\"DejaVuSans-52\"/>\n      </defs>\n      <g transform=\"translate(338.2405 343.198437)scale(0.1 -0.1)\">\n       <use xlink:href=\"#DejaVuSans-49\"/>\n       <use x=\"63.623047\" xlink:href=\"#DejaVuSans-52\"/>\n      </g>\n     </g>\n    </g>\n    <g id=\"xtick_7\">\n     <g id=\"line2d_7\">\n      <g>\n       <use style=\"stroke:#000000;stroke-width:0.8;\" x=\"400.049\" xlink:href=\"#mdd9465da35\" y=\"328.6\"/>\n      </g>\n     </g>\n     <g id=\"text_7\">\n      <!-- 18 -->\n      <defs>\n       <path d=\"M 31.78125 34.625 \nQ 24.75 34.625 20.71875 30.859375 \nQ 16.703125 27.09375 16.703125 20.515625 \nQ 16.703125 13.921875 20.71875 10.15625 \nQ 24.75 6.390625 31.78125 6.390625 \nQ 38.8125 6.390625 42.859375 10.171875 \nQ 46.921875 13.96875 46.921875 20.515625 \nQ 46.921875 27.09375 42.890625 30.859375 \nQ 38.875 34.625 31.78125 34.625 \nz\nM 21.921875 38.8125 \nQ 15.578125 40.375 12.03125 44.71875 \nQ 8.5 49.078125 8.5 55.328125 \nQ 8.5 64.0625 14.71875 69.140625 \nQ 20.953125 74.21875 31.78125 74.21875 \nQ 42.671875 74.21875 48.875 69.140625 \nQ 55.078125 64.0625 55.078125 55.328125 \nQ 55.078125 49.078125 51.53125 44.71875 \nQ 48 40.375 41.703125 38.8125 \nQ 48.828125 37.15625 52.796875 32.3125 \nQ 56.78125 27.484375 56.78125 20.515625 \nQ 56.78125 9.90625 50.3125 4.234375 \nQ 43.84375 -1.421875 31.78125 -1.421875 \nQ 19.734375 -1.421875 13.25 4.234375 \nQ 6.78125 9.90625 6.78125 20.515625 \nQ 6.78125 27.484375 10.78125 32.3125 \nQ 14.796875 37.15625 21.921875 38.8125 \nz\nM 18.3125 54.390625 \nQ 18.3125 48.734375 21.84375 45.5625 \nQ 25.390625 42.390625 31.78125 42.390625 \nQ 38.140625 42.390625 41.71875 45.5625 \nQ 45.3125 48.734375 45.3125 54.390625 \nQ 45.3125 60.0625 41.71875 63.234375 \nQ 38.140625 66.40625 31.78125 66.40625 \nQ 25.390625 66.40625 21.84375 63.234375 \nQ 18.3125 60.0625 18.3125 54.390625 \nz\n\" id=\"DejaVuSans-56\"/>\n      </defs>\n      <g transform=\"translate(393.6865 343.198437)scale(0.1 -0.1)\">\n       <use xlink:href=\"#DejaVuSans-49\"/>\n       <use x=\"63.623047\" xlink:href=\"#DejaVuSans-56\"/>\n      </g>\n     </g>\n    </g>\n    <g id=\"xtick_8\">\n     <g id=\"line2d_8\">\n      <g>\n       <use style=\"stroke:#000000;stroke-width:0.8;\" x=\"455.495\" xlink:href=\"#mdd9465da35\" y=\"328.6\"/>\n      </g>\n     </g>\n     <g id=\"text_8\">\n      <!-- 3 -->\n      <g transform=\"translate(452.31375 343.198437)scale(0.1 -0.1)\">\n       <use xlink:href=\"#DejaVuSans-51\"/>\n      </g>\n     </g>\n    </g>\n    <g id=\"xtick_9\">\n     <g id=\"line2d_9\">\n      <g>\n       <use style=\"stroke:#000000;stroke-width:0.8;\" x=\"510.941\" xlink:href=\"#mdd9465da35\" y=\"328.6\"/>\n      </g>\n     </g>\n     <g id=\"text_9\">\n      <!-- 10 -->\n      <g transform=\"translate(504.5785 343.198437)scale(0.1 -0.1)\">\n       <use xlink:href=\"#DejaVuSans-49\"/>\n       <use x=\"63.623047\" xlink:href=\"#DejaVuSans-48\"/>\n      </g>\n     </g>\n    </g>\n    <g id=\"xtick_10\">\n     <g id=\"line2d_10\">\n      <g>\n       <use style=\"stroke:#000000;stroke-width:0.8;\" x=\"566.387\" xlink:href=\"#mdd9465da35\" y=\"328.6\"/>\n      </g>\n     </g>\n     <g id=\"text_10\">\n      <!-- 24 -->\n      <g transform=\"translate(560.0245 343.198437)scale(0.1 -0.1)\">\n       <use xlink:href=\"#DejaVuSans-50\"/>\n       <use x=\"63.623047\" xlink:href=\"#DejaVuSans-52\"/>\n      </g>\n     </g>\n    </g>\n    <g id=\"xtick_11\">\n     <g id=\"line2d_11\">\n      <g>\n       <use style=\"stroke:#000000;stroke-width:0.8;\" x=\"621.833\" xlink:href=\"#mdd9465da35\" y=\"328.6\"/>\n      </g>\n     </g>\n     <g id=\"text_11\">\n      <!-- 13 -->\n      <g transform=\"translate(615.4705 343.198437)scale(0.1 -0.1)\">\n       <use xlink:href=\"#DejaVuSans-49\"/>\n       <use x=\"63.623047\" xlink:href=\"#DejaVuSans-51\"/>\n      </g>\n     </g>\n    </g>\n    <g id=\"xtick_12\">\n     <g id=\"line2d_12\">\n      <g>\n       <use style=\"stroke:#000000;stroke-width:0.8;\" x=\"677.279\" xlink:href=\"#mdd9465da35\" y=\"328.6\"/>\n      </g>\n     </g>\n     <g id=\"text_12\">\n      <!-- 20 -->\n      <g transform=\"translate(670.9165 343.198437)scale(0.1 -0.1)\">\n       <use xlink:href=\"#DejaVuSans-50\"/>\n       <use x=\"63.623047\" xlink:href=\"#DejaVuSans-48\"/>\n      </g>\n     </g>\n    </g>\n    <g id=\"xtick_13\">\n     <g id=\"line2d_13\">\n      <g>\n       <use style=\"stroke:#000000;stroke-width:0.8;\" x=\"732.725\" xlink:href=\"#mdd9465da35\" y=\"328.6\"/>\n      </g>\n     </g>\n     <g id=\"text_13\">\n      <!-- 5 -->\n      <defs>\n       <path d=\"M 10.796875 72.90625 \nL 49.515625 72.90625 \nL 49.515625 64.59375 \nL 19.828125 64.59375 \nL 19.828125 46.734375 \nQ 21.96875 47.46875 24.109375 47.828125 \nQ 26.265625 48.1875 28.421875 48.1875 \nQ 40.625 48.1875 47.75 41.5 \nQ 54.890625 34.8125 54.890625 23.390625 \nQ 54.890625 11.625 47.5625 5.09375 \nQ 40.234375 -1.421875 26.90625 -1.421875 \nQ 22.3125 -1.421875 17.546875 -0.640625 \nQ 12.796875 0.140625 7.71875 1.703125 \nL 7.71875 11.625 \nQ 12.109375 9.234375 16.796875 8.0625 \nQ 21.484375 6.890625 26.703125 6.890625 \nQ 35.15625 6.890625 40.078125 11.328125 \nQ 45.015625 15.765625 45.015625 23.390625 \nQ 45.015625 31 40.078125 35.4375 \nQ 35.15625 39.890625 26.703125 39.890625 \nQ 22.75 39.890625 18.8125 39.015625 \nQ 14.890625 38.140625 10.796875 36.28125 \nz\n\" id=\"DejaVuSans-53\"/>\n      </defs>\n      <g transform=\"translate(729.54375 343.198437)scale(0.1 -0.1)\">\n       <use xlink:href=\"#DejaVuSans-53\"/>\n      </g>\n     </g>\n    </g>\n    <g id=\"xtick_14\">\n     <g id=\"line2d_14\">\n      <g>\n       <use style=\"stroke:#000000;stroke-width:0.8;\" x=\"788.171\" xlink:href=\"#mdd9465da35\" y=\"328.6\"/>\n      </g>\n     </g>\n     <g id=\"text_14\">\n      <!-- 7 -->\n      <g transform=\"translate(784.98975 343.198437)scale(0.1 -0.1)\">\n       <use xlink:href=\"#DejaVuSans-55\"/>\n      </g>\n     </g>\n    </g>\n    <g id=\"xtick_15\">\n     <g id=\"line2d_15\">\n      <g>\n       <use style=\"stroke:#000000;stroke-width:0.8;\" x=\"843.617\" xlink:href=\"#mdd9465da35\" y=\"328.6\"/>\n      </g>\n     </g>\n     <g id=\"text_15\">\n      <!-- 22 -->\n      <g transform=\"translate(837.2545 343.198437)scale(0.1 -0.1)\">\n       <use xlink:href=\"#DejaVuSans-50\"/>\n       <use x=\"63.623047\" xlink:href=\"#DejaVuSans-50\"/>\n      </g>\n     </g>\n    </g>\n    <g id=\"xtick_16\">\n     <g id=\"line2d_16\">\n      <g>\n       <use style=\"stroke:#000000;stroke-width:0.8;\" x=\"899.063\" xlink:href=\"#mdd9465da35\" y=\"328.6\"/>\n      </g>\n     </g>\n     <g id=\"text_16\">\n      <!-- 1 -->\n      <g transform=\"translate(895.88175 343.198437)scale(0.1 -0.1)\">\n       <use xlink:href=\"#DejaVuSans-49\"/>\n      </g>\n     </g>\n    </g>\n    <g id=\"xtick_17\">\n     <g id=\"line2d_17\">\n      <g>\n       <use style=\"stroke:#000000;stroke-width:0.8;\" x=\"954.509\" xlink:href=\"#mdd9465da35\" y=\"328.6\"/>\n      </g>\n     </g>\n     <g id=\"text_17\">\n      <!-- 12 -->\n      <g transform=\"translate(948.1465 343.198437)scale(0.1 -0.1)\">\n       <use xlink:href=\"#DejaVuSans-49\"/>\n       <use x=\"63.623047\" xlink:href=\"#DejaVuSans-50\"/>\n      </g>\n     </g>\n    </g>\n    <g id=\"xtick_18\">\n     <g id=\"line2d_18\">\n      <g>\n       <use style=\"stroke:#000000;stroke-width:0.8;\" x=\"1009.955\" xlink:href=\"#mdd9465da35\" y=\"328.6\"/>\n      </g>\n     </g>\n     <g id=\"text_18\">\n      <!-- 11 -->\n      <g transform=\"translate(1003.5925 343.198437)scale(0.1 -0.1)\">\n       <use xlink:href=\"#DejaVuSans-49\"/>\n       <use x=\"63.623047\" xlink:href=\"#DejaVuSans-49\"/>\n      </g>\n     </g>\n    </g>\n    <g id=\"xtick_19\">\n     <g id=\"line2d_19\">\n      <g>\n       <use style=\"stroke:#000000;stroke-width:0.8;\" x=\"1065.401\" xlink:href=\"#mdd9465da35\" y=\"328.6\"/>\n      </g>\n     </g>\n     <g id=\"text_19\">\n      <!-- 16 -->\n      <defs>\n       <path d=\"M 33.015625 40.375 \nQ 26.375 40.375 22.484375 35.828125 \nQ 18.609375 31.296875 18.609375 23.390625 \nQ 18.609375 15.53125 22.484375 10.953125 \nQ 26.375 6.390625 33.015625 6.390625 \nQ 39.65625 6.390625 43.53125 10.953125 \nQ 47.40625 15.53125 47.40625 23.390625 \nQ 47.40625 31.296875 43.53125 35.828125 \nQ 39.65625 40.375 33.015625 40.375 \nz\nM 52.59375 71.296875 \nL 52.59375 62.3125 \nQ 48.875 64.0625 45.09375 64.984375 \nQ 41.3125 65.921875 37.59375 65.921875 \nQ 27.828125 65.921875 22.671875 59.328125 \nQ 17.53125 52.734375 16.796875 39.40625 \nQ 19.671875 43.65625 24.015625 45.921875 \nQ 28.375 48.1875 33.59375 48.1875 \nQ 44.578125 48.1875 50.953125 41.515625 \nQ 57.328125 34.859375 57.328125 23.390625 \nQ 57.328125 12.15625 50.6875 5.359375 \nQ 44.046875 -1.421875 33.015625 -1.421875 \nQ 20.359375 -1.421875 13.671875 8.265625 \nQ 6.984375 17.96875 6.984375 36.375 \nQ 6.984375 53.65625 15.1875 63.9375 \nQ 23.390625 74.21875 37.203125 74.21875 \nQ 40.921875 74.21875 44.703125 73.484375 \nQ 48.484375 72.75 52.59375 71.296875 \nz\n\" id=\"DejaVuSans-54\"/>\n      </defs>\n      <g transform=\"translate(1059.0385 343.198437)scale(0.1 -0.1)\">\n       <use xlink:href=\"#DejaVuSans-49\"/>\n       <use x=\"63.623047\" xlink:href=\"#DejaVuSans-54\"/>\n      </g>\n     </g>\n    </g>\n    <g id=\"xtick_20\">\n     <g id=\"line2d_20\">\n      <g>\n       <use style=\"stroke:#000000;stroke-width:0.8;\" x=\"1120.847\" xlink:href=\"#mdd9465da35\" y=\"328.6\"/>\n      </g>\n     </g>\n     <g id=\"text_20\">\n      <!-- 9 -->\n      <g transform=\"translate(1117.66575 343.198437)scale(0.1 -0.1)\">\n       <use xlink:href=\"#DejaVuSans-57\"/>\n      </g>\n     </g>\n    </g>\n    <g id=\"xtick_21\">\n     <g id=\"line2d_21\">\n      <g>\n       <use style=\"stroke:#000000;stroke-width:0.8;\" x=\"1176.293\" xlink:href=\"#mdd9465da35\" y=\"328.6\"/>\n      </g>\n     </g>\n     <g id=\"text_21\">\n      <!-- 6 -->\n      <g transform=\"translate(1173.11175 343.198437)scale(0.1 -0.1)\">\n       <use xlink:href=\"#DejaVuSans-54\"/>\n      </g>\n     </g>\n    </g>\n    <g id=\"xtick_22\">\n     <g id=\"line2d_22\">\n      <g>\n       <use style=\"stroke:#000000;stroke-width:0.8;\" x=\"1231.739\" xlink:href=\"#mdd9465da35\" y=\"328.6\"/>\n      </g>\n     </g>\n     <g id=\"text_22\">\n      <!-- 8 -->\n      <g transform=\"translate(1228.55775 343.198437)scale(0.1 -0.1)\">\n       <use xlink:href=\"#DejaVuSans-56\"/>\n      </g>\n     </g>\n    </g>\n    <g id=\"xtick_23\">\n     <g id=\"line2d_23\">\n      <g>\n       <use style=\"stroke:#000000;stroke-width:0.8;\" x=\"1287.185\" xlink:href=\"#mdd9465da35\" y=\"328.6\"/>\n      </g>\n     </g>\n     <g id=\"text_23\">\n      <!-- 21 -->\n      <g transform=\"translate(1280.8225 343.198437)scale(0.1 -0.1)\">\n       <use xlink:href=\"#DejaVuSans-50\"/>\n       <use x=\"63.623047\" xlink:href=\"#DejaVuSans-49\"/>\n      </g>\n     </g>\n    </g>\n    <g id=\"xtick_24\">\n     <g id=\"line2d_24\">\n      <g>\n       <use style=\"stroke:#000000;stroke-width:0.8;\" x=\"1342.631\" xlink:href=\"#mdd9465da35\" y=\"328.6\"/>\n      </g>\n     </g>\n     <g id=\"text_24\">\n      <!-- 15 -->\n      <g transform=\"translate(1336.2685 343.198437)scale(0.1 -0.1)\">\n       <use xlink:href=\"#DejaVuSans-49\"/>\n       <use x=\"63.623047\" xlink:href=\"#DejaVuSans-53\"/>\n      </g>\n     </g>\n    </g>\n    <g id=\"xtick_25\">\n     <g id=\"line2d_25\">\n      <g>\n       <use style=\"stroke:#000000;stroke-width:0.8;\" x=\"1398.077\" xlink:href=\"#mdd9465da35\" y=\"328.6\"/>\n      </g>\n     </g>\n     <g id=\"text_25\">\n      <!-- 4 -->\n      <g transform=\"translate(1394.89575 343.198437)scale(0.1 -0.1)\">\n       <use xlink:href=\"#DejaVuSans-52\"/>\n      </g>\n     </g>\n    </g>\n   </g>\n   <g id=\"matplotlib.axis_2\">\n    <g id=\"ytick_1\">\n     <g id=\"line2d_26\">\n      <defs>\n       <path d=\"M 0 0 \nL -3.5 0 \n\" id=\"ma67b5c14cb\" style=\"stroke:#000000;stroke-width:0.8;\"/>\n      </defs>\n      <g>\n       <use style=\"stroke:#000000;stroke-width:0.8;\" x=\"39.65\" xlink:href=\"#ma67b5c14cb\" y=\"328.6\"/>\n      </g>\n     </g>\n     <g id=\"text_26\">\n      <!-- 0 -->\n      <g transform=\"translate(26.2875 332.399219)scale(0.1 -0.1)\">\n       <use xlink:href=\"#DejaVuSans-48\"/>\n      </g>\n     </g>\n    </g>\n    <g id=\"ytick_2\">\n     <g id=\"line2d_27\">\n      <g>\n       <use style=\"stroke:#000000;stroke-width:0.8;\" x=\"39.65\" xlink:href=\"#ma67b5c14cb\" y=\"278.625267\"/>\n      </g>\n     </g>\n     <g id=\"text_27\">\n      <!-- 200 -->\n      <g transform=\"translate(13.5625 282.424486)scale(0.1 -0.1)\">\n       <use xlink:href=\"#DejaVuSans-50\"/>\n       <use x=\"63.623047\" xlink:href=\"#DejaVuSans-48\"/>\n       <use x=\"127.246094\" xlink:href=\"#DejaVuSans-48\"/>\n      </g>\n     </g>\n    </g>\n    <g id=\"ytick_3\">\n     <g id=\"line2d_28\">\n      <g>\n       <use style=\"stroke:#000000;stroke-width:0.8;\" x=\"39.65\" xlink:href=\"#ma67b5c14cb\" y=\"228.650534\"/>\n      </g>\n     </g>\n     <g id=\"text_28\">\n      <!-- 400 -->\n      <g transform=\"translate(13.5625 232.449753)scale(0.1 -0.1)\">\n       <use xlink:href=\"#DejaVuSans-52\"/>\n       <use x=\"63.623047\" xlink:href=\"#DejaVuSans-48\"/>\n       <use x=\"127.246094\" xlink:href=\"#DejaVuSans-48\"/>\n      </g>\n     </g>\n    </g>\n    <g id=\"ytick_4\">\n     <g id=\"line2d_29\">\n      <g>\n       <use style=\"stroke:#000000;stroke-width:0.8;\" x=\"39.65\" xlink:href=\"#ma67b5c14cb\" y=\"178.675802\"/>\n      </g>\n     </g>\n     <g id=\"text_29\">\n      <!-- 600 -->\n      <g transform=\"translate(13.5625 182.47502)scale(0.1 -0.1)\">\n       <use xlink:href=\"#DejaVuSans-54\"/>\n       <use x=\"63.623047\" xlink:href=\"#DejaVuSans-48\"/>\n       <use x=\"127.246094\" xlink:href=\"#DejaVuSans-48\"/>\n      </g>\n     </g>\n    </g>\n    <g id=\"ytick_5\">\n     <g id=\"line2d_30\">\n      <g>\n       <use style=\"stroke:#000000;stroke-width:0.8;\" x=\"39.65\" xlink:href=\"#ma67b5c14cb\" y=\"128.701069\"/>\n      </g>\n     </g>\n     <g id=\"text_30\">\n      <!-- 800 -->\n      <g transform=\"translate(13.5625 132.500288)scale(0.1 -0.1)\">\n       <use xlink:href=\"#DejaVuSans-56\"/>\n       <use x=\"63.623047\" xlink:href=\"#DejaVuSans-48\"/>\n       <use x=\"127.246094\" xlink:href=\"#DejaVuSans-48\"/>\n      </g>\n     </g>\n    </g>\n    <g id=\"ytick_6\">\n     <g id=\"line2d_31\">\n      <g>\n       <use style=\"stroke:#000000;stroke-width:0.8;\" x=\"39.65\" xlink:href=\"#ma67b5c14cb\" y=\"78.726336\"/>\n      </g>\n     </g>\n     <g id=\"text_31\">\n      <!-- 1000 -->\n      <g transform=\"translate(7.2 82.525555)scale(0.1 -0.1)\">\n       <use xlink:href=\"#DejaVuSans-49\"/>\n       <use x=\"63.623047\" xlink:href=\"#DejaVuSans-48\"/>\n       <use x=\"127.246094\" xlink:href=\"#DejaVuSans-48\"/>\n       <use x=\"190.869141\" xlink:href=\"#DejaVuSans-48\"/>\n      </g>\n     </g>\n    </g>\n    <g id=\"ytick_7\">\n     <g id=\"line2d_32\">\n      <g>\n       <use style=\"stroke:#000000;stroke-width:0.8;\" x=\"39.65\" xlink:href=\"#ma67b5c14cb\" y=\"28.751603\"/>\n      </g>\n     </g>\n     <g id=\"text_32\">\n      <!-- 1200 -->\n      <g transform=\"translate(7.2 32.550822)scale(0.1 -0.1)\">\n       <use xlink:href=\"#DejaVuSans-49\"/>\n       <use x=\"63.623047\" xlink:href=\"#DejaVuSans-50\"/>\n       <use x=\"127.246094\" xlink:href=\"#DejaVuSans-48\"/>\n       <use x=\"190.869141\" xlink:href=\"#DejaVuSans-48\"/>\n      </g>\n     </g>\n    </g>\n   </g>\n   <g id=\"line2d_33\">\n    <path clip-path=\"url(#pefb664d5e0)\" style=\"fill:none;stroke:#424242;stroke-linecap:square;stroke-width:2.7;\"/>\n   </g>\n   <g id=\"line2d_34\">\n    <path clip-path=\"url(#pefb664d5e0)\" style=\"fill:none;stroke:#424242;stroke-linecap:square;stroke-width:2.7;\"/>\n   </g>\n   <g id=\"line2d_35\">\n    <path clip-path=\"url(#pefb664d5e0)\" style=\"fill:none;stroke:#424242;stroke-linecap:square;stroke-width:2.7;\"/>\n   </g>\n   <g id=\"line2d_36\">\n    <path clip-path=\"url(#pefb664d5e0)\" style=\"fill:none;stroke:#424242;stroke-linecap:square;stroke-width:2.7;\"/>\n   </g>\n   <g id=\"line2d_37\">\n    <path clip-path=\"url(#pefb664d5e0)\" style=\"fill:none;stroke:#424242;stroke-linecap:square;stroke-width:2.7;\"/>\n   </g>\n   <g id=\"line2d_38\">\n    <path clip-path=\"url(#pefb664d5e0)\" style=\"fill:none;stroke:#424242;stroke-linecap:square;stroke-width:2.7;\"/>\n   </g>\n   <g id=\"line2d_39\">\n    <path clip-path=\"url(#pefb664d5e0)\" style=\"fill:none;stroke:#424242;stroke-linecap:square;stroke-width:2.7;\"/>\n   </g>\n   <g id=\"line2d_40\">\n    <path clip-path=\"url(#pefb664d5e0)\" style=\"fill:none;stroke:#424242;stroke-linecap:square;stroke-width:2.7;\"/>\n   </g>\n   <g id=\"line2d_41\">\n    <path clip-path=\"url(#pefb664d5e0)\" style=\"fill:none;stroke:#424242;stroke-linecap:square;stroke-width:2.7;\"/>\n   </g>\n   <g id=\"line2d_42\">\n    <path clip-path=\"url(#pefb664d5e0)\" style=\"fill:none;stroke:#424242;stroke-linecap:square;stroke-width:2.7;\"/>\n   </g>\n   <g id=\"line2d_43\">\n    <path clip-path=\"url(#pefb664d5e0)\" style=\"fill:none;stroke:#424242;stroke-linecap:square;stroke-width:2.7;\"/>\n   </g>\n   <g id=\"line2d_44\">\n    <path clip-path=\"url(#pefb664d5e0)\" style=\"fill:none;stroke:#424242;stroke-linecap:square;stroke-width:2.7;\"/>\n   </g>\n   <g id=\"line2d_45\">\n    <path clip-path=\"url(#pefb664d5e0)\" style=\"fill:none;stroke:#424242;stroke-linecap:square;stroke-width:2.7;\"/>\n   </g>\n   <g id=\"line2d_46\">\n    <path clip-path=\"url(#pefb664d5e0)\" style=\"fill:none;stroke:#424242;stroke-linecap:square;stroke-width:2.7;\"/>\n   </g>\n   <g id=\"line2d_47\">\n    <path clip-path=\"url(#pefb664d5e0)\" style=\"fill:none;stroke:#424242;stroke-linecap:square;stroke-width:2.7;\"/>\n   </g>\n   <g id=\"line2d_48\">\n    <path clip-path=\"url(#pefb664d5e0)\" style=\"fill:none;stroke:#424242;stroke-linecap:square;stroke-width:2.7;\"/>\n   </g>\n   <g id=\"line2d_49\">\n    <path clip-path=\"url(#pefb664d5e0)\" style=\"fill:none;stroke:#424242;stroke-linecap:square;stroke-width:2.7;\"/>\n   </g>\n   <g id=\"line2d_50\">\n    <path clip-path=\"url(#pefb664d5e0)\" style=\"fill:none;stroke:#424242;stroke-linecap:square;stroke-width:2.7;\"/>\n   </g>\n   <g id=\"line2d_51\">\n    <path clip-path=\"url(#pefb664d5e0)\" style=\"fill:none;stroke:#424242;stroke-linecap:square;stroke-width:2.7;\"/>\n   </g>\n   <g id=\"line2d_52\">\n    <path clip-path=\"url(#pefb664d5e0)\" style=\"fill:none;stroke:#424242;stroke-linecap:square;stroke-width:2.7;\"/>\n   </g>\n   <g id=\"line2d_53\">\n    <path clip-path=\"url(#pefb664d5e0)\" style=\"fill:none;stroke:#424242;stroke-linecap:square;stroke-width:2.7;\"/>\n   </g>\n   <g id=\"line2d_54\">\n    <path clip-path=\"url(#pefb664d5e0)\" style=\"fill:none;stroke:#424242;stroke-linecap:square;stroke-width:2.7;\"/>\n   </g>\n   <g id=\"line2d_55\">\n    <path clip-path=\"url(#pefb664d5e0)\" style=\"fill:none;stroke:#424242;stroke-linecap:square;stroke-width:2.7;\"/>\n   </g>\n   <g id=\"line2d_56\">\n    <path clip-path=\"url(#pefb664d5e0)\" style=\"fill:none;stroke:#424242;stroke-linecap:square;stroke-width:2.7;\"/>\n   </g>\n   <g id=\"line2d_57\">\n    <path clip-path=\"url(#pefb664d5e0)\" style=\"fill:none;stroke:#424242;stroke-linecap:square;stroke-width:2.7;\"/>\n   </g>\n   <g id=\"patch_28\">\n    <path d=\"M 39.65 328.6 \nL 39.65 7.2 \n\" style=\"fill:none;stroke:#000000;stroke-linecap:square;stroke-linejoin:miter;stroke-width:0.8;\"/>\n   </g>\n   <g id=\"patch_29\">\n    <path d=\"M 1425.8 328.6 \nL 1425.8 7.2 \n\" style=\"fill:none;stroke:#000000;stroke-linecap:square;stroke-linejoin:miter;stroke-width:0.8;\"/>\n   </g>\n   <g id=\"patch_30\">\n    <path d=\"M 39.65 328.6 \nL 1425.8 328.6 \n\" style=\"fill:none;stroke:#000000;stroke-linecap:square;stroke-linejoin:miter;stroke-width:0.8;\"/>\n   </g>\n   <g id=\"patch_31\">\n    <path d=\"M 39.65 7.2 \nL 1425.8 7.2 \n\" style=\"fill:none;stroke:#000000;stroke-linecap:square;stroke-linejoin:miter;stroke-width:0.8;\"/>\n   </g>\n  </g>\n </g>\n <defs>\n  <clipPath id=\"pefb664d5e0\">\n   <rect height=\"321.4\" width=\"1386.15\" x=\"39.65\" y=\"7.2\"/>\n  </clipPath>\n </defs>\n</svg>\n",
      "image/png": "[encoded data removed]"
     },
     "metadata": {
      "needs_background": "light"
     }
    }
   ],
   "source": [
    "\n",
    "import seaborn as sns\n",
    "import matplotlib.pyplot as plt\n",
    "from operator import itemgetter\n",
    "\n",
    "topics_count.sort(key=itemgetter(1), reverse=True)\n",
    "\n",
    "data = {\n",
    "    'Topic': [ topic[0] for topic in topics_count ],\n",
    "    'Number of news': [ topic[1] for topic in topics_count ]\n",
    "}\n",
    "\n",
    "plt.figure(figsize=(20,5))\n",
    "ax = sns.barplot(x=\"Topic\", y=\"Number of news\", data=data, order=data['Topic'])\n",
    "plt.tight_layout()\n",
    "plt.show()"
   ]
  }
 ]
}