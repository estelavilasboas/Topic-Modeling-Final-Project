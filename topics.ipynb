{
  "nbformat": 4,
  "nbformat_minor": 0,
  "metadata": {
    "colab": {
      "name": "analyzing-covid-19-news",
      "provenance": [],
      "collapsed_sections": []
    },
    "kernelspec": {
      "display_name": "Python 3",
      "name": "python3"
    }
  },
  "cells": [
    {
      "cell_type": "code",
      "metadata": {
        "colab": {
          "base_uri": "https://localhost:8080/",
          "height": 314
        },
        "id": "eeC1qSSXEl0_",
        "outputId": "c66a025f-c7b4-4039-a0b7-129fac7b12a9"
      },
      "source": [
        "import pandas as pd\r\n",
        "\r\n",
        "news_original = pd.read_csv('./news.csv', index_col=0)\r\n",
        "news_original.head()"
      ],
      "execution_count": null,
      "outputs": [
        {
          "output_type": "execute_result",
          "data": {
            "text/html": [
              "<div>\n",
              "<style scoped>\n",
              "    .dataframe tbody tr th:only-of-type {\n",
              "        vertical-align: middle;\n",
              "    }\n",
              "\n",
              "    .dataframe tbody tr th {\n",
              "        vertical-align: top;\n",
              "    }\n",
              "\n",
              "    .dataframe thead th {\n",
              "        text-align: right;\n",
              "    }\n",
              "</style>\n",
              "<table border=\"1\" class=\"dataframe\">\n",
              "  <thead>\n",
              "    <tr style=\"text-align: right;\">\n",
              "      <th></th>\n",
              "      <th>authors</th>\n",
              "      <th>title</th>\n",
              "      <th>publish_date</th>\n",
              "      <th>description</th>\n",
              "      <th>text</th>\n",
              "      <th>url</th>\n",
              "    </tr>\n",
              "  </thead>\n",
              "  <tbody>\n",
              "    <tr>\n",
              "      <th>0</th>\n",
              "      <td>[]</td>\n",
              "      <td>'More vital now:' Gay-straight alliances go vi...</td>\n",
              "      <td>2020-05-03 1:30</td>\n",
              "      <td>Lily Overacker and Laurell Pallot start each g...</td>\n",
              "      <td>Lily Overacker and Laurell Pallot start each g...</td>\n",
              "      <td>https://www.cbc.ca/news/canada/calgary/gay-str...</td>\n",
              "    </tr>\n",
              "    <tr>\n",
              "      <th>1</th>\n",
              "      <td>[]</td>\n",
              "      <td>Scientists aim to 'see' invisible transmission...</td>\n",
              "      <td>2020-05-02 8:00</td>\n",
              "      <td>Some researchers aim to learn more about how t...</td>\n",
              "      <td>This is an excerpt from Second Opinion, a week...</td>\n",
              "      <td>https://www.cbc.ca/news/technology/droplet-tra...</td>\n",
              "    </tr>\n",
              "    <tr>\n",
              "      <th>2</th>\n",
              "      <td>['The Canadian Press']</td>\n",
              "      <td>Coronavirus: What's happening in Canada and ar...</td>\n",
              "      <td>2020-05-02 11:28</td>\n",
              "      <td>Canada's chief public health officer struck an...</td>\n",
              "      <td>The latest:  The lives behind the numbers: Wha...</td>\n",
              "      <td>https://www.cbc.ca/news/canada/coronavirus-cov...</td>\n",
              "    </tr>\n",
              "    <tr>\n",
              "      <th>3</th>\n",
              "      <td>[]</td>\n",
              "      <td>B.C. announces 26 new coronavirus cases, new c...</td>\n",
              "      <td>2020-05-02 18:45</td>\n",
              "      <td>B.C. provincial health officer Dr. Bonnie Henr...</td>\n",
              "      <td>B.C. provincial health officer Dr. Bonnie Henr...</td>\n",
              "      <td>https://www.cbc.ca/news/canada/british-columbi...</td>\n",
              "    </tr>\n",
              "    <tr>\n",
              "      <th>4</th>\n",
              "      <td>[]</td>\n",
              "      <td>B.C. announces 26 new coronavirus cases, new c...</td>\n",
              "      <td>2020-05-02 18:45</td>\n",
              "      <td>B.C. provincial health officer Dr. Bonnie Henr...</td>\n",
              "      <td>B.C. provincial health officer Dr. Bonnie Henr...</td>\n",
              "      <td>https://www.cbc.ca/news/canada/british-columbi...</td>\n",
              "    </tr>\n",
              "  </tbody>\n",
              "</table>\n",
              "</div>"
            ],
            "text/plain": [
              "                  authors  ...                                                url\n",
              "0                      []  ...  https://www.cbc.ca/news/canada/calgary/gay-str...\n",
              "1                      []  ...  https://www.cbc.ca/news/technology/droplet-tra...\n",
              "2  ['The Canadian Press']  ...  https://www.cbc.ca/news/canada/coronavirus-cov...\n",
              "3                      []  ...  https://www.cbc.ca/news/canada/british-columbi...\n",
              "4                      []  ...  https://www.cbc.ca/news/canada/british-columbi...\n",
              "\n",
              "[5 rows x 6 columns]"
            ]
          },
          "metadata": {
            "tags": []
          },
          "execution_count": 1
        }
      ]
    },
    {
      "cell_type": "code",
      "metadata": {
        "colab": {
          "base_uri": "https://localhost:8080/",
          "height": 197
        },
        "id": "pljV704gHUXG",
        "outputId": "413759a5-15a6-443c-ffc5-49706a670632"
      },
      "source": [
        "news = news_original.copy()\r\n",
        "\r\n",
        "contents = []\r\n",
        "for index, row in news.iterrows():\r\n",
        "  content = ''\r\n",
        "  if isinstance(row['title'], str):\r\n",
        "    content += row['title']\r\n",
        "  if isinstance(row['description'], str):\r\n",
        "    content += row['description']\r\n",
        "  if isinstance(row['text'], str):\r\n",
        "    content += row['text']\r\n",
        "  contents.append(content)\r\n",
        "\r\n",
        "news['content'] = contents[:]\r\n",
        "\r\n",
        "del news['title'], news['description'], news['text']\r\n",
        "news.head()"
      ],
      "execution_count": null,
      "outputs": [
        {
          "output_type": "execute_result",
          "data": {
            "text/html": [
              "<div>\n",
              "<style scoped>\n",
              "    .dataframe tbody tr th:only-of-type {\n",
              "        vertical-align: middle;\n",
              "    }\n",
              "\n",
              "    .dataframe tbody tr th {\n",
              "        vertical-align: top;\n",
              "    }\n",
              "\n",
              "    .dataframe thead th {\n",
              "        text-align: right;\n",
              "    }\n",
              "</style>\n",
              "<table border=\"1\" class=\"dataframe\">\n",
              "  <thead>\n",
              "    <tr style=\"text-align: right;\">\n",
              "      <th></th>\n",
              "      <th>authors</th>\n",
              "      <th>publish_date</th>\n",
              "      <th>url</th>\n",
              "      <th>content</th>\n",
              "    </tr>\n",
              "  </thead>\n",
              "  <tbody>\n",
              "    <tr>\n",
              "      <th>0</th>\n",
              "      <td>[]</td>\n",
              "      <td>2020-05-03 1:30</td>\n",
              "      <td>https://www.cbc.ca/news/canada/calgary/gay-str...</td>\n",
              "      <td>'More vital now:' Gay-straight alliances go vi...</td>\n",
              "    </tr>\n",
              "    <tr>\n",
              "      <th>1</th>\n",
              "      <td>[]</td>\n",
              "      <td>2020-05-02 8:00</td>\n",
              "      <td>https://www.cbc.ca/news/technology/droplet-tra...</td>\n",
              "      <td>Scientists aim to 'see' invisible transmission...</td>\n",
              "    </tr>\n",
              "    <tr>\n",
              "      <th>2</th>\n",
              "      <td>['The Canadian Press']</td>\n",
              "      <td>2020-05-02 11:28</td>\n",
              "      <td>https://www.cbc.ca/news/canada/coronavirus-cov...</td>\n",
              "      <td>Coronavirus: What's happening in Canada and ar...</td>\n",
              "    </tr>\n",
              "    <tr>\n",
              "      <th>3</th>\n",
              "      <td>[]</td>\n",
              "      <td>2020-05-02 18:45</td>\n",
              "      <td>https://www.cbc.ca/news/canada/british-columbi...</td>\n",
              "      <td>B.C. announces 26 new coronavirus cases, new c...</td>\n",
              "    </tr>\n",
              "    <tr>\n",
              "      <th>4</th>\n",
              "      <td>[]</td>\n",
              "      <td>2020-05-02 18:45</td>\n",
              "      <td>https://www.cbc.ca/news/canada/british-columbi...</td>\n",
              "      <td>B.C. announces 26 new coronavirus cases, new c...</td>\n",
              "    </tr>\n",
              "  </tbody>\n",
              "</table>\n",
              "</div>"
            ],
            "text/plain": [
              "                  authors  ...                                            content\n",
              "0                      []  ...  'More vital now:' Gay-straight alliances go vi...\n",
              "1                      []  ...  Scientists aim to 'see' invisible transmission...\n",
              "2  ['The Canadian Press']  ...  Coronavirus: What's happening in Canada and ar...\n",
              "3                      []  ...  B.C. announces 26 new coronavirus cases, new c...\n",
              "4                      []  ...  B.C. announces 26 new coronavirus cases, new c...\n",
              "\n",
              "[5 rows x 4 columns]"
            ]
          },
          "metadata": {
            "tags": []
          },
          "execution_count": 2
        }
      ]
    },
    {
      "cell_type": "markdown",
      "metadata": {
        "id": "KzAJdFXxHaW6"
      },
      "source": [
        "Pre-processing\r\n"
      ]
    },
    {
      "cell_type": "code",
      "metadata": {
        "colab": {
          "base_uri": "https://localhost:8080/"
        },
        "id": "dJfKLE4UHe30",
        "outputId": "f1d2bb75-1600-4cf4-be51-5a627ea3e625"
      },
      "source": [
        "from gensim.utils import simple_preprocess\r\n",
        "from gensim.parsing.preprocessing import STOPWORDS\r\n",
        "\r\n",
        "from nltk import download\r\n",
        "download('wordnet')\r\n",
        "download('averaged_perceptron_tagger')\r\n",
        "\r\n",
        "from nltk import WordNetLemmatizer, pos_tag\r\n",
        "from nltk.corpus import wordnet\r\n",
        "\r\n",
        "def get_pos(token):  # get part of speech\r\n",
        "  tag = pos_tag([token])[0][1][0].upper()\r\n",
        "  tag_dict = {\r\n",
        "    \"J\": wordnet.ADJ,\r\n",
        "    \"N\": wordnet.NOUN,\r\n",
        "    \"V\": wordnet.VERB,\r\n",
        "    \"R\": wordnet.ADV\r\n",
        "  }\r\n",
        "  return tag_dict.get(tag, wordnet.NOUN)"
      ],
      "execution_count": null,
      "outputs": [
        {
          "output_type": "stream",
          "text": [
            "[nltk_data] Downloading package wordnet to /root/nltk_data...\n",
            "[nltk_data]   Unzipping corpora/wordnet.zip.\n",
            "[nltk_data] Downloading package averaged_perceptron_tagger to\n",
            "[nltk_data]     /root/nltk_data...\n",
            "[nltk_data]   Unzipping taggers/averaged_perceptron_tagger.zip.\n"
          ],
          "name": "stdout"
        }
      ]
    },
    {
      "cell_type": "code",
      "metadata": {
        "colab": {
          "background_save": true
        },
        "id": "8ouqjfy_d8dE",
        "outputId": "65124aeb-2098-4833-90fb-6c9f675bef9c"
      },
      "source": [
        "wnl = WordNetLemmatizer()\r\n",
        "\r\n",
        "preprocessed_content = []\r\n",
        "\r\n",
        "for index, row in news.iterrows():\r\n",
        "  content = []\r\n",
        "  for token in simple_preprocess(row['content']):\r\n",
        "    if not (token in STOPWORDS):\r\n",
        "      content.append(wnl.lemmatize(token, pos=get_pos(token)))\r\n",
        "  #content = [ wnl.lemmatize(token, pos=get_pos(token)) for token in simple_preprocess(row['content']) if not (token in STOPWORDS)]\r\n",
        "  preprocessed_content.append(' '.join(content))\r\n",
        "\r\n",
        "news['preprocessed_content'] = preprocessed_content[:]\r\n",
        "news"
      ],
      "execution_count": null,
      "outputs": [
        {
          "output_type": "execute_result",
          "data": {
            "text/html": [
              "<div>\n",
              "<style scoped>\n",
              "    .dataframe tbody tr th:only-of-type {\n",
              "        vertical-align: middle;\n",
              "    }\n",
              "\n",
              "    .dataframe tbody tr th {\n",
              "        vertical-align: top;\n",
              "    }\n",
              "\n",
              "    .dataframe thead th {\n",
              "        text-align: right;\n",
              "    }\n",
              "</style>\n",
              "<table border=\"1\" class=\"dataframe\">\n",
              "  <thead>\n",
              "    <tr style=\"text-align: right;\">\n",
              "      <th></th>\n",
              "      <th>authors</th>\n",
              "      <th>publish_date</th>\n",
              "      <th>url</th>\n",
              "      <th>content</th>\n",
              "      <th>preprocessed_content</th>\n",
              "    </tr>\n",
              "  </thead>\n",
              "  <tbody>\n",
              "    <tr>\n",
              "      <th>0</th>\n",
              "      <td>[]</td>\n",
              "      <td>2020-05-03 1:30</td>\n",
              "      <td>https://www.cbc.ca/news/canada/calgary/gay-str...</td>\n",
              "      <td>'More vital now:' Gay-straight alliances go vi...</td>\n",
              "      <td>vital gay straight alliance virtual coronaviru...</td>\n",
              "    </tr>\n",
              "    <tr>\n",
              "      <th>1</th>\n",
              "      <td>[]</td>\n",
              "      <td>2020-05-02 8:00</td>\n",
              "      <td>https://www.cbc.ca/news/technology/droplet-tra...</td>\n",
              "      <td>Scientists aim to 'see' invisible transmission...</td>\n",
              "      <td>scientist aim invisible transmission coronavir...</td>\n",
              "    </tr>\n",
              "    <tr>\n",
              "      <th>2</th>\n",
              "      <td>['The Canadian Press']</td>\n",
              "      <td>2020-05-02 11:28</td>\n",
              "      <td>https://www.cbc.ca/news/canada/coronavirus-cov...</td>\n",
              "      <td>Coronavirus: What's happening in Canada and ar...</td>\n",
              "      <td>coronavirus happen canada world canada chief p...</td>\n",
              "    </tr>\n",
              "    <tr>\n",
              "      <th>3</th>\n",
              "      <td>[]</td>\n",
              "      <td>2020-05-02 18:45</td>\n",
              "      <td>https://www.cbc.ca/news/canada/british-columbi...</td>\n",
              "      <td>B.C. announces 26 new coronavirus cases, new c...</td>\n",
              "      <td>announces new coronavirus case new community o...</td>\n",
              "    </tr>\n",
              "    <tr>\n",
              "      <th>4</th>\n",
              "      <td>[]</td>\n",
              "      <td>2020-05-02 18:45</td>\n",
              "      <td>https://www.cbc.ca/news/canada/british-columbi...</td>\n",
              "      <td>B.C. announces 26 new coronavirus cases, new c...</td>\n",
              "      <td>announces new coronavirus case new community o...</td>\n",
              "    </tr>\n",
              "    <tr>\n",
              "      <th>...</th>\n",
              "      <td>...</td>\n",
              "      <td>...</td>\n",
              "      <td>...</td>\n",
              "      <td>...</td>\n",
              "      <td>...</td>\n",
              "    </tr>\n",
              "    <tr>\n",
              "      <th>6782</th>\n",
              "      <td>['Cbc News']</td>\n",
              "      <td>2020-04-06 10:49</td>\n",
              "      <td>https://www.cbc.ca/news/canada/windsor/fishing...</td>\n",
              "      <td>Fishing industry in Windsor-Essex shut down du...</td>\n",
              "      <td>fishing industry windsor essex shut peak seaso...</td>\n",
              "    </tr>\n",
              "    <tr>\n",
              "      <th>6783</th>\n",
              "      <td>['Cbc News']</td>\n",
              "      <td>2020-03-18 17:08</td>\n",
              "      <td>https://www.cbc.ca/news/canada/ottawa/tunneys-...</td>\n",
              "      <td>Health Canada worker tests positive for COVID-...</td>\n",
              "      <td>health canada worker test positive covid healt...</td>\n",
              "    </tr>\n",
              "    <tr>\n",
              "      <th>6784</th>\n",
              "      <td>['Cbc News']</td>\n",
              "      <td>2020-04-19 11:30</td>\n",
              "      <td>https://www.cbc.ca/news/canada/newfoundland-la...</td>\n",
              "      <td>Taxis adapting to COVID-19 with plastic shield...</td>\n",
              "      <td>taxi adapt covid plastic shield passenger limi...</td>\n",
              "    </tr>\n",
              "    <tr>\n",
              "      <th>6785</th>\n",
              "      <td>[]</td>\n",
              "      <td>2020-03-31 12:55</td>\n",
              "      <td>https://www.cbc.ca/news/canada/edmonton/shawn-...</td>\n",
              "      <td>'An amazing man': Young father identified as n...</td>\n",
              "      <td>amaze man young father identify northern alber...</td>\n",
              "    </tr>\n",
              "    <tr>\n",
              "      <th>6786</th>\n",
              "      <td>[]</td>\n",
              "      <td>2020-04-06 9:00</td>\n",
              "      <td>https://www.cbc.ca/news/canada/nova-scotia/cla...</td>\n",
              "      <td>N.S. municipality warns against annual Easter ...</td>\n",
              "      <td>municipality warns annual easter weekend canoe...</td>\n",
              "    </tr>\n",
              "  </tbody>\n",
              "</table>\n",
              "<p>6788 rows × 5 columns</p>\n",
              "</div>"
            ],
            "text/plain": [
              "                     authors  ...                               preprocessed_content\n",
              "0                         []  ...  vital gay straight alliance virtual coronaviru...\n",
              "1                         []  ...  scientist aim invisible transmission coronavir...\n",
              "2     ['The Canadian Press']  ...  coronavirus happen canada world canada chief p...\n",
              "3                         []  ...  announces new coronavirus case new community o...\n",
              "4                         []  ...  announces new coronavirus case new community o...\n",
              "...                      ...  ...                                                ...\n",
              "6782            ['Cbc News']  ...  fishing industry windsor essex shut peak seaso...\n",
              "6783            ['Cbc News']  ...  health canada worker test positive covid healt...\n",
              "6784            ['Cbc News']  ...  taxi adapt covid plastic shield passenger limi...\n",
              "6785                      []  ...  amaze man young father identify northern alber...\n",
              "6786                      []  ...  municipality warns annual easter weekend canoe...\n",
              "\n",
              "[6788 rows x 5 columns]"
            ]
          },
          "metadata": {
            "tags": []
          },
          "execution_count": 0
        }
      ]
    },
    {
      "cell_type": "code",
      "metadata": {
        "colab": {
          "background_save": true
        },
        "id": "sRyF2LyAUv0Z"
      },
      "source": [
        "from gensim.models import Phrases\r\n",
        "from gensim.models.phrases import Phraser\r\n",
        "\r\n",
        "bigram_model = Phrases([ content.split() for content in preprocessed_content ])"
      ],
      "execution_count": null,
      "outputs": []
    },
    {
      "cell_type": "code",
      "metadata": {
        "colab": {
          "background_save": true
        },
        "id": "TzO0c8mkd8HT",
        "outputId": "cf5513e0-9e65-448b-955a-db7d0a29641b"
      },
      "source": [
        "enriched_content = []\r\n",
        "\r\n",
        "for index, row in news.iterrows():\r\n",
        "  enriched_content.append(bigram_model[row['preprocessed_content'].split()])\r\n",
        "\r\n",
        "news['preprocessed_content'] = [ ' '.join(content) for content in enriched_content ]\r\n",
        "news.head()"
      ],
      "execution_count": null,
      "outputs": [
        {
          "output_type": "stream",
          "text": [
            "/usr/local/lib/python3.6/dist-packages/gensim/models/phrases.py:598: UserWarning: For a faster implementation, use the gensim.models.phrases.Phraser class\n",
            "  warnings.warn(\"For a faster implementation, use the gensim.models.phrases.Phraser class\")\n"
          ],
          "name": "stderr"
        },
        {
          "output_type": "execute_result",
          "data": {
            "text/html": [
              "<div>\n",
              "<style scoped>\n",
              "    .dataframe tbody tr th:only-of-type {\n",
              "        vertical-align: middle;\n",
              "    }\n",
              "\n",
              "    .dataframe tbody tr th {\n",
              "        vertical-align: top;\n",
              "    }\n",
              "\n",
              "    .dataframe thead th {\n",
              "        text-align: right;\n",
              "    }\n",
              "</style>\n",
              "<table border=\"1\" class=\"dataframe\">\n",
              "  <thead>\n",
              "    <tr style=\"text-align: right;\">\n",
              "      <th></th>\n",
              "      <th>authors</th>\n",
              "      <th>publish_date</th>\n",
              "      <th>url</th>\n",
              "      <th>content</th>\n",
              "      <th>preprocessed_content</th>\n",
              "    </tr>\n",
              "  </thead>\n",
              "  <tbody>\n",
              "    <tr>\n",
              "      <th>0</th>\n",
              "      <td>[]</td>\n",
              "      <td>2020-05-03 1:30</td>\n",
              "      <td>https://www.cbc.ca/news/canada/calgary/gay-str...</td>\n",
              "      <td>'More vital now:' Gay-straight alliances go vi...</td>\n",
              "      <td>vital gay_straight alliance virtual coronaviru...</td>\n",
              "    </tr>\n",
              "    <tr>\n",
              "      <th>1</th>\n",
              "      <td>[]</td>\n",
              "      <td>2020-05-02 8:00</td>\n",
              "      <td>https://www.cbc.ca/news/technology/droplet-tra...</td>\n",
              "      <td>Scientists aim to 'see' invisible transmission...</td>\n",
              "      <td>scientist aim invisible transmission coronavir...</td>\n",
              "    </tr>\n",
              "    <tr>\n",
              "      <th>2</th>\n",
              "      <td>['The Canadian Press']</td>\n",
              "      <td>2020-05-02 11:28</td>\n",
              "      <td>https://www.cbc.ca/news/canada/coronavirus-cov...</td>\n",
              "      <td>Coronavirus: What's happening in Canada and ar...</td>\n",
              "      <td>coronavirus happen canada world canada chief_p...</td>\n",
              "    </tr>\n",
              "    <tr>\n",
              "      <th>3</th>\n",
              "      <td>[]</td>\n",
              "      <td>2020-05-02 18:45</td>\n",
              "      <td>https://www.cbc.ca/news/canada/british-columbi...</td>\n",
              "      <td>B.C. announces 26 new coronavirus cases, new c...</td>\n",
              "      <td>announces_new coronavirus case new community o...</td>\n",
              "    </tr>\n",
              "    <tr>\n",
              "      <th>4</th>\n",
              "      <td>[]</td>\n",
              "      <td>2020-05-02 18:45</td>\n",
              "      <td>https://www.cbc.ca/news/canada/british-columbi...</td>\n",
              "      <td>B.C. announces 26 new coronavirus cases, new c...</td>\n",
              "      <td>announces_new coronavirus case new community o...</td>\n",
              "    </tr>\n",
              "  </tbody>\n",
              "</table>\n",
              "</div>"
            ],
            "text/plain": [
              "                  authors  ...                               preprocessed_content\n",
              "0                      []  ...  vital gay_straight alliance virtual coronaviru...\n",
              "1                      []  ...  scientist aim invisible transmission coronavir...\n",
              "2  ['The Canadian Press']  ...  coronavirus happen canada world canada chief_p...\n",
              "3                      []  ...  announces_new coronavirus case new community o...\n",
              "4                      []  ...  announces_new coronavirus case new community o...\n",
              "\n",
              "[5 rows x 5 columns]"
            ]
          },
          "metadata": {
            "tags": []
          },
          "execution_count": 0
        }
      ]
    },
    {
      "cell_type": "markdown",
      "metadata": {
        "id": "76HSqiB_h5xY"
      },
      "source": [
        "Topic Modeling"
      ]
    },
    {
      "cell_type": "code",
      "metadata": {
        "colab": {
          "background_save": true
        },
        "id": "0EnWbSV-b3hX"
      },
      "source": [
        "from gensim.corpora import Dictionary\r\n",
        "\r\n",
        "dictionary = Dictionary(enriched_content)\r\n",
        "#bag of words\r\n",
        "bow = [ dictionary.doc2bow(content) for content in enriched_content ]"
      ],
      "execution_count": null,
      "outputs": []
    },
    {
      "cell_type": "code",
      "metadata": {
        "id": "Pg4ZEPr_dvij"
      },
      "source": [
        "from gensim.models  import LdaMulticore\r\n",
        "\r\n",
        "model = LdaMulticore(\r\n",
        "    bow,\r\n",
        "    id2word = dictionary,\r\n",
        "    num_topics = 25,\r\n",
        "    chunksize = 1000,\r\n",
        "    passes = 200,\r\n",
        "    workers = 1,\r\n",
        "    random_state = 10\r\n",
        ")"
      ],
      "execution_count": 8,
      "outputs": []
    },
    {
      "cell_type": "code",
      "metadata": {
        "id": "0oZ5hDtN33y9",
        "outputId": "044fa3d3-9671-4e60-88ea-c2ec4d0c4c18",
        "colab": {
          "base_uri": "https://localhost:8080/"
        }
      },
      "source": [
        "model"
      ],
      "execution_count": 10,
      "outputs": [
        {
          "output_type": "execute_result",
          "data": {
            "text/plain": [
              "<gensim.models.ldamulticore.LdaMulticore at 0x7f437856eac8>"
            ]
          },
          "metadata": {
            "tags": []
          },
          "execution_count": 10
        }
      ]
    },
    {
      "cell_type": "code",
      "metadata": {
        "id": "W7rIoydjSZKv",
        "colab": {
          "base_uri": "https://localhost:8080/",
          "height": 227
        },
        "outputId": "babed270-dd8c-479e-f02c-1086a0689151"
      },
      "source": [
        "for topic, words in model.print_topics(-1):\r\n",
        "  print('Topic', topic)\r\n",
        "  for word, weight in words:\r\n",
        "    print(word, '%.2f'%weight)"
      ],
      "execution_count": 9,
      "outputs": [
        {
          "output_type": "stream",
          "text": [
            "Topic 0\n"
          ],
          "name": "stdout"
        },
        {
          "output_type": "error",
          "ename": "ValueError",
          "evalue": "ignored",
          "traceback": [
            "\u001b[0;31m---------------------------------------------------------------------------\u001b[0m",
            "\u001b[0;31mValueError\u001b[0m                                Traceback (most recent call last)",
            "\u001b[0;32m<ipython-input-9-2b6d67527a8a>\u001b[0m in \u001b[0;36m<module>\u001b[0;34m()\u001b[0m\n\u001b[1;32m      1\u001b[0m \u001b[0;32mfor\u001b[0m \u001b[0mtopic\u001b[0m\u001b[0;34m,\u001b[0m \u001b[0mwords\u001b[0m \u001b[0;32min\u001b[0m \u001b[0mmodel\u001b[0m\u001b[0;34m.\u001b[0m\u001b[0mprint_topics\u001b[0m\u001b[0;34m(\u001b[0m\u001b[0;34m-\u001b[0m\u001b[0;36m1\u001b[0m\u001b[0;34m)\u001b[0m\u001b[0;34m:\u001b[0m\u001b[0;34m\u001b[0m\u001b[0;34m\u001b[0m\u001b[0m\n\u001b[1;32m      2\u001b[0m   \u001b[0mprint\u001b[0m\u001b[0;34m(\u001b[0m\u001b[0;34m'Topic'\u001b[0m\u001b[0;34m,\u001b[0m \u001b[0mtopic\u001b[0m\u001b[0;34m)\u001b[0m\u001b[0;34m\u001b[0m\u001b[0;34m\u001b[0m\u001b[0m\n\u001b[0;32m----> 3\u001b[0;31m   \u001b[0;32mfor\u001b[0m \u001b[0mword\u001b[0m\u001b[0;34m,\u001b[0m \u001b[0mweight\u001b[0m \u001b[0;32min\u001b[0m \u001b[0mwords\u001b[0m\u001b[0;34m:\u001b[0m\u001b[0;34m\u001b[0m\u001b[0;34m\u001b[0m\u001b[0m\n\u001b[0m\u001b[1;32m      4\u001b[0m     \u001b[0mprint\u001b[0m\u001b[0;34m(\u001b[0m\u001b[0mword\u001b[0m\u001b[0;34m,\u001b[0m \u001b[0;34m'%.2f'\u001b[0m\u001b[0;34m%\u001b[0m\u001b[0mweight\u001b[0m\u001b[0;34m)\u001b[0m\u001b[0;34m\u001b[0m\u001b[0;34m\u001b[0m\u001b[0m\n",
            "\u001b[0;31mValueError\u001b[0m: not enough values to unpack (expected 2, got 1)"
          ]
        }
      ]
    }
  ]
}